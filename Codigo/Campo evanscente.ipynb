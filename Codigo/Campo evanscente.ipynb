{
 "cells": [
  {
   "cell_type": "code",
   "execution_count": 1,
   "id": "f23cb1b7",
   "metadata": {},
   "outputs": [],
   "source": [
    "import numpy as np\n",
    "import matplotlib.pyplot as plt\n",
    "import seaborn as sns"
   ]
  },
  {
   "cell_type": "code",
   "execution_count": 2,
   "id": "ce1ebc36",
   "metadata": {},
   "outputs": [],
   "source": [
    "w = 632 * (10 ** -9)\n",
    "a = 11*w\n",
    "#p = [[a,0],[-a,0],[0,0],[2*a,0],[-2*a,0]]\n",
    "#p = [[a,0],[-a,0],[0,0],[0,a],[0,-a],[a,a],[a,-a],[-a,a],[-a,-a]]\n",
    "#p = [[a,0],[-a,0],[0,0],[0,a],[0,-a],[a,a],[a,-a],[-a,a],[-a,-a],[a/2,0],[-a/2,0],[0,a/2],[0,-a/2]]\n",
    "#p = [[a,0],[-a,0],[0,0],[0,a],[0,-a],[a,a],[a,-a],[-a,a],[-a,-a],[a/2,0],[-a/2,0],[0,a/2],[0,-a/2],[a,a/2],[a,-a/2],[-a,a/2],[-a,-a/2],[a/2,a/2],[a/2,-a/2],[-a/2,a/2],[-a/2,-a/2],[a/2,a],[a/2,-a],[-a/2,a],[-a/2,-a]]\n",
    "p = [[a,0],[-a,0],[0,0],[0,a],[0,-a],[a,a],[a,-a],[-a,a],[-a,-a],[a/2,0],[-a/2,0],[0,a/2],[0,-a/2],[a,a/2],[a,-a/2],[-a,a/2],[-a,-a/2],[a/2,a/2],[a/2,-a/2],[-a/2,a/2],[-a/2,-a/2],[a/2,a],[a/2,-a],[-a/2,a],[-a/2,-a],[(3*a)/2,0],[-(3*a)/2,0],[0,(3*a)/2],[0,-(3*a)/2],[(3*a)/2,a],[(3*a)/2,a/2],[(3*a)/2,-a/2],[(3*a)/2,-a],[a/2,(3*a)/2]]\n"
   ]
  },
  {
   "cell_type": "code",
   "execution_count": 3,
   "id": "f140fd8e",
   "metadata": {},
   "outputs": [],
   "source": [
    "def matrix_points(p):\n",
    "    #x son los puntos sobre el eje x\n",
    "    x = list(np.array(p)[:,0])\n",
    "    y = list(np.array(p)[:,1])\n",
    "    \n",
    "    #subm_1 es la submatriz compuesta de vectores fila de x\n",
    "    subm_1x = np.array(x*len(x)).reshape(len(x),len(x))\n",
    "    subm_1y = np.array(y*len(y)).reshape(len(y),len(y))\n",
    "    \n",
    "    #subm_2 es la submatriz compuesta de vectores columna repitiendo x\n",
    "    subm_2x = np.transpose(subm_1x)\n",
    "    subm_2y = np.transpose(subm_1y)\n",
    "    \n",
    "    #xi_a es el promedio de cada punto en x con cada uno de los demas puntos\n",
    "    xi_a = (subm_1x+subm_2x)/2\n",
    "    eta_a = (subm_1y+subm_2y)/2\n",
    "    \n",
    "    #xi_d es la distancia de cada punto con cada uno de los demas puntos\n",
    "    xi_d = subm_2x-subm_1x\n",
    "    eta_d = subm_2y-subm_1y\n",
    "    \n",
    "    #vectores de las matrices xi_a y xi_d\n",
    "    xi_av = list(xi_a.reshape(1,len(xi_a)**2))\n",
    "    xi_dv = list(xi_d.reshape(1,len(xi_d)**2))\n",
    "    eta_av = list(eta_a.reshape(1,len(eta_a)**2))\n",
    "    eta_dv = list(eta_d.reshape(1,len(eta_d)**2))\n",
    "    \n",
    "    #matriz con todas las parejas de puntos xi_a y xi_d\n",
    "    xi_m = np.transpose(np.array(xi_av+xi_dv+eta_av+eta_dv)).reshape(len(x),len(x),4)\n",
    "    return xi_m"
   ]
  },
  {
   "cell_type": "code",
   "execution_count": 4,
   "id": "f1f92875",
   "metadata": {},
   "outputs": [],
   "source": [
    "def GeometricPotencial_3D_00_reducido(xa, xi_a, xi_d, ya, eta_a, eta_d, za, wa,c):\n",
    "    #constantes\n",
    "    pic = 1 / ((4*np.pi) ** 2)\n",
    "    k = ((2*np.pi)/wa)\n",
    "    \n",
    "    xi_p, xi_n = xi_a+(xi_d)/2, xi_a-(xi_d)/2\n",
    "    eta_p, eta_n = eta_a+(eta_d)/2, eta_a-(eta_d)/2\n",
    "    \n",
    "    R1 = 21*w\n",
    "    R2 = 25*w\n",
    "    phase_plus  = -np.sqrt((R1**2) - (xi_p**2) - (eta_p**2) + 0j) + np.sqrt((R2**2) - (xi_p**2) - (eta_p**2) + 0j) + R1 + R2\n",
    "    phase_minus = np.sqrt((R2**2) - (xi_n**2) - (eta_n**2) + 0j) - np.sqrt((R1**2) - (xi_n**2) - (eta_n**2) + 0j) + R1 + R2\n",
    "    phase = np.exp(-1j*k*phase_plus*c) * np.exp(1j*k*phase_minus*c)\n",
    "    \n",
    "    #distancia s\n",
    "    s_1 = np.sqrt(((xa-xi_p) ** 2) + ((ya-eta_p) **2) + ((za) ** 2))\n",
    "    s_2 = np.sqrt(((xa-xi_n) **2) + ((ya-eta_n) ** 2) + ((za) ** 2))\n",
    "    \n",
    "    #kernel\n",
    "    #kernel = 2*((k**2)*pic) * ((za+0.5*s_1)/(s_1 ** 2)) * ((za+0.5*s_2)/(s_2 ** 2)) * np.cos(k*s_1-k*s_2+phase*k*0)\n",
    "    kernel_0 = 2*((k**2)*pic) * ((za+s_1)/(s_1 ** 2)) * ((za+s_2)/(s_2 ** 2)) * np.exp(1j*k*s_1-1j*k*s_2) * phase \n",
    "    kernel = np.real(kernel_0)\n",
    "    #print(kernel_0)\n",
    "    return kernel\n",
    "\n",
    "def GeometricPotencial_3D_Real(xa, ya, za, p, wa,c):\n",
    "    sum_r = 0\n",
    "    matrix_complete = matrix_points(p)\n",
    "    matrix_real = np.einsum('iij->ij', matrix_complete)\n",
    "    for i in matrix_real:\n",
    "        sum_r = sum_r + GeometricPotencial_3D_00_reducido(xa,i[0],i[1],ya,i[2],i[3],za,wa,c)\n",
    "    return sum_r\n",
    "\n",
    "def GeometricPotencial_3D_Virtual(xa, ya, za, p, wa,c):\n",
    "    sum_v = 0\n",
    "    matrix_complete = matrix_points(p)\n",
    "    matrix_virtual = []\n",
    "    \n",
    "    for i in range(0,len(matrix_complete)):\n",
    "        for j in range(0,len(matrix_complete)):\n",
    "            if i != j:\n",
    "                matrix_virtual.append(list(matrix_complete[i,j]))\n",
    "    \n",
    "    matrix_virtual = np.array(matrix_virtual)\n",
    "    \n",
    "    for k in matrix_virtual:\n",
    "        sum_v = sum_v + GeometricPotencial_3D_00_reducido(xa,k[0],k[1],ya,k[2],k[3],za,wa,c)\n",
    "    return sum_v\n",
    "\n",
    "def GeometricPotencial_3D_reducido(xa, ya, za, p, wa,c):\n",
    "    sum_t = 1*GeometricPotencial_3D_Real(xa, ya, za, p, wa,c) + 1*GeometricPotencial_3D_Virtual(xa, ya, za, p, wa,c)\n",
    "    return sum_t"
   ]
  },
  {
   "cell_type": "code",
   "execution_count": 5,
   "id": "502bc255",
   "metadata": {},
   "outputs": [
    {
     "data": {
      "text/plain": [
       "8.295000000000004e-05"
      ]
     },
     "execution_count": 5,
     "metadata": {},
     "output_type": "execute_result"
    }
   ],
   "source": [
    "(((1/21) - (1/25)) * (1/w)) ** -1"
   ]
  },
  {
   "cell_type": "code",
   "execution_count": 9,
   "id": "cac35a35",
   "metadata": {},
   "outputs": [
    {
     "data": {
      "image/png": "[encoded data removed]",
      "text/plain": [
       "<Figure size 640x480 with 1 Axes>"
      ]
     },
     "metadata": {},
     "output_type": "display_data"
    }
   ],
   "source": [
    "zzz = np.linspace(2*w, 210*w, 1000)\n",
    "z2  = (1 + (zzz**2))\n",
    "z_plot_0 = np.array(list(GeometricPotencial_3D_reducido(0*w,0,zzz,p,w,0)), dtype=float)\n",
    "z_plot_1 = np.array(list(GeometricPotencial_3D_reducido(0*w,0,zzz,p,w,1)), dtype=float)\n",
    "\n",
    "fig, ax = plt.subplots()\n",
    "ax.plot(zzz, z_plot_0, label=\"0\", color=\"#191970\")\n",
    "ax.plot(zzz, z_plot_1, label=\"1\", color=\"#9F2B68\")\n",
    "ax.legend()\n",
    "#plt.xlim([1530,1570])\n",
    "#plt.ylim([-40,1])\n",
    "plt.show()"
   ]
  },
  {
   "cell_type": "code",
   "execution_count": 35,
   "id": "40a942e0",
   "metadata": {},
   "outputs": [
    {
     "data": {
      "text/plain": [
       "(1e+308+1e+308j)"
      ]
     },
     "execution_count": 35,
     "metadata": {},
     "output_type": "execute_result"
    }
   ],
   "source": [
    "np.complex128(10 ** 308 + (1j * 10 ** 308))"
   ]
  }
 ],
 "metadata": {
  "kernelspec": {
   "display_name": "Python 3 (ipykernel)",
   "language": "python",
   "name": "python3"
  },
  "language_info": {
   "codemirror_mode": {
    "name": "ipython",
    "version": 3
   },
   "file_extension": ".py",
   "mimetype": "text/x-python",
   "name": "python",
   "nbconvert_exporter": "python",
   "pygments_lexer": "ipython3",
   "version": "3.11.1"
  }
 },
 "nbformat": 4,
 "nbformat_minor": 5
}
