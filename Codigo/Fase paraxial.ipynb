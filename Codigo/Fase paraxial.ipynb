{
 "cells": [
  {
   "cell_type": "markdown",
   "id": "4aa35f66-3560-403a-a3b7-ce64830f9087",
   "metadata": {},
   "source": [
    "# Fase Paraxial"
   ]
  },
  {
   "cell_type": "code",
   "execution_count": 2,
   "id": "41ce3a6c-ac41-4eef-a4be-b41260a7fd8f",
   "metadata": {},
   "outputs": [],
   "source": [
    "import numpy as np\n",
    "import matplotlib.pyplot as plt\n",
    "import seaborn as sns\n",
    "import matplotlib.animation as animation"
   ]
  },
  {
   "cell_type": "code",
   "execution_count": 3,
   "id": "dcd9f4cc-951e-431f-b983-d168a4958a22",
   "metadata": {},
   "outputs": [],
   "source": [
    "w = 632 * (10 ** -9)\n",
    "a = 5*w\n",
    "position = [[a,0],[-a,0],[2*a,0],[-2*a,0]]\n",
    "ppp = [[a,0],[2*a,0]]\n",
    "pp = [[-a,0],[-2*a,0]]\n",
    "#p = [[0,0]]"
   ]
  },
  {
   "cell_type": "code",
   "execution_count": 4,
   "id": "4c121819-9829-4ccf-a8ec-db9b9998fe58",
   "metadata": {},
   "outputs": [],
   "source": [
    "def matrix_points(p):\n",
    "    #x son los puntos sobre el eje x\n",
    "    x = list(np.array(p)[:,0])\n",
    "    y = list(np.array(p)[:,1])\n",
    "    \n",
    "    #subm_1 es la submatriz compuesta de vectores fila de x\n",
    "    subm_1x = np.array(x*len(x)).reshape(len(x),len(x))\n",
    "    subm_1y = np.array(y*len(y)).reshape(len(y),len(y))\n",
    "    \n",
    "    #subm_2 es la submatriz compuesta de vectores columna repitiendo x\n",
    "    subm_2x = np.transpose(subm_1x)\n",
    "    subm_2y = np.transpose(subm_1y)\n",
    "    \n",
    "    #xi_a es el promedio de cada punto en x con cada uno de los demas puntos\n",
    "    xi_a = (subm_1x+subm_2x)/2\n",
    "    eta_a = (subm_1y+subm_2y)/2\n",
    "    \n",
    "    #xi_d es la distancia de cada punto con cada uno de los demas puntos\n",
    "    xi_d = subm_2x-subm_1x\n",
    "    eta_d = subm_2y-subm_1y\n",
    "    \n",
    "    #vectores de las matrices xi_a y xi_d\n",
    "    xi_av = list(xi_a.reshape(1,len(xi_a)**2))\n",
    "    xi_dv = list(xi_d.reshape(1,len(xi_d)**2))\n",
    "    eta_av = list(eta_a.reshape(1,len(eta_a)**2))\n",
    "    eta_dv = list(eta_d.reshape(1,len(eta_d)**2))\n",
    "    \n",
    "    #matriz con todas las parejas de puntos xi_a y xi_d\n",
    "    xi_m = np.transpose(np.array(xi_av+xi_dv+eta_av+eta_dv)).reshape(len(x),len(x),4)\n",
    "    return xi_m"
   ]
  },
  {
   "cell_type": "code",
   "execution_count": 5,
   "id": "c96fd936-508c-4086-a461-b44b4b22ec77",
   "metadata": {},
   "outputs": [],
   "source": [
    "def GeometricPotencial_3D_00_reducido(xa, xi_a, xi_d, ya, eta_a, eta_d, za, wa):\n",
    "    #vectores\n",
    "    phase = 0\n",
    "    xi_p, xi_n = xi_a+(xi_d)/2, xi_a-(xi_d)/2\n",
    "    eta_p, eta_n = eta_a+(eta_d)/2, eta_a-(eta_d)/2\n",
    "    \n",
    "    #distancia s\n",
    "    s_1 = np.sqrt(((xa-xi_p) ** 2) + ((ya-eta_p) **2) + ((za) ** 2))\n",
    "    s_2 = np.sqrt(((xa-xi_n) **2) + ((ya-eta_n) ** 2) + ((za) ** 2))\n",
    "    \n",
    "    s_1f = np.sqrt(((xa-xi_p-25*wa) ** 2) + ((ya-eta_p+25*wa) **2) + ((za) ** 2))\n",
    "    s_2f = np.sqrt(((xa-xi_n-25*wa) **2) + ((ya-eta_n+25*wa) ** 2) + ((za) ** 2))\n",
    "    \n",
    "    #constantes\n",
    "    pic = 1 / ((4*np.pi) ** 2)\n",
    "    k = ((2*np.pi)/wa)\n",
    "    \n",
    "    #kernel\n",
    "    kernel = 2*((k**2)*pic) * ((za+0.5*s_1)/(s_1 ** 2)) * ((za+0.5*s_2)/(s_2 ** 2)) * np.cos(k*s_1-k*s_2+phase)\n",
    "    return kernel\n",
    "\n",
    "def GeometricPotencial_3D_Real(xa, ya, za, p, wa):\n",
    "    sum_r = 0\n",
    "    matrix_complete = matrix_points(p)\n",
    "    matrix_real = np.einsum('iij->ij', matrix_complete)\n",
    "    for i in matrix_real:\n",
    "        sum_r = sum_r + GeometricPotencial_3D_00_reducido(xa,i[0],i[1],ya,i[2],i[3],za,wa)\n",
    "    return sum_r\n",
    "\n",
    "def GeometricPotencial_3D_Virtual(xa, ya, za, p, wa,c):\n",
    "    sum_v = 0\n",
    "    matrix_complete = matrix_points(p)\n",
    "    matrix_virtual = []\n",
    "    \n",
    "    for i in range(0,len(matrix_complete)):\n",
    "        for j in range(0,len(matrix_complete)):\n",
    "            if i != j:\n",
    "                matrix_virtual.append(list(matrix_complete[i,j]))\n",
    "    \n",
    "    matrix_virtual = np.array(matrix_virtual)\n",
    "    \n",
    "    for k in matrix_virtual:\n",
    "        sum_v = sum_v + GeometricPotencial_3D_00_reducido(xa,k[0],k[1],ya,k[2],k[3],za,wa)\n",
    "    return sum_v\n",
    "\n",
    "def GeometricPotencial_3D_reducido(xa, ya, za, p, wa,c):\n",
    "    sum_t = 1*GeometricPotencial_3D_Real(xa, ya, za, p, wa) + 1*GeometricPotencial_3D_Virtual(xa, ya, za, p, wa,c)\n",
    "    return sum_t"
   ]
  },
  {
   "cell_type": "code",
   "execution_count": null,
   "id": "a073de14-c2e1-4b85-9742-7c4df682964e",
   "metadata": {},
   "outputs": [],
   "source": []
  }
 ],
 "metadata": {
  "kernelspec": {
   "display_name": "Python 3 (ipykernel)",
   "language": "python",
   "name": "python3"
  },
  "language_info": {
   "codemirror_mode": {
    "name": "ipython",
    "version": 3
   },
   "file_extension": ".py",
   "mimetype": "text/x-python",
   "name": "python",
   "nbconvert_exporter": "python",
   "pygments_lexer": "ipython3",
   "version": "3.10.9"
  }
 },
 "nbformat": 4,
 "nbformat_minor": 5
}
