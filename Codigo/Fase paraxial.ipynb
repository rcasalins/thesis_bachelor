{
 "cells": [
  {
   "cell_type": "markdown",
   "id": "4aa35f66-3560-403a-a3b7-ce64830f9087",
   "metadata": {},
   "source": [
    "# Fase Paraxial"
   ]
  },
  {
   "cell_type": "code",
   "execution_count": null,
   "id": "dcd9f4cc-951e-431f-b983-d168a4958a22",
   "metadata": {},
   "outputs": [],
   "source": []
  }
 ],
 "metadata": {
  "kernelspec": {
   "display_name": "Python 3 (ipykernel)",
   "language": "python",
   "name": "python3"
  },
  "language_info": {
   "codemirror_mode": {
    "name": "ipython",
    "version": 3
   },
   "file_extension": ".py",
   "mimetype": "text/x-python",
   "name": "python",
   "nbconvert_exporter": "python",
   "pygments_lexer": "ipython3",
   "version": "3.10.9"
  }
 },
 "nbformat": 4,
 "nbformat_minor": 5
}
