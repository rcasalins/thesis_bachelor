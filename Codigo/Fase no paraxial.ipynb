{
 "cells": [
  {
   "cell_type": "markdown",
   "id": "4aa35f66-3560-403a-a3b7-ce64830f9087",
   "metadata": {},
   "source": [
    "# Fase No Paraxial"
   ]
  },
  {
   "cell_type": "code",
   "execution_count": 174,
   "id": "41ce3a6c-ac41-4eef-a4be-b41260a7fd8f",
   "metadata": {},
   "outputs": [],
   "source": [
    "import numpy as np\n",
    "import matplotlib.pyplot as plt\n",
    "import seaborn as sns\n",
    "import numpy.fft as fft"
   ]
  },
  {
   "cell_type": "code",
   "execution_count": 58,
   "id": "84e28e53-a160-48b5-885b-bcfe535d2464",
   "metadata": {},
   "outputs": [],
   "source": [
    "w = 400 * (10 ** -9)\n",
    "a = 1.3*w\n",
    "#p = [[a,0],[-a,0],[0,0],[2*a,0],[-2*a,0]]\n",
    "#p = [[a,0],[-a,0],[0,0],[0,a],[0,-a],[a,a],[a,-a],[-a,a],[-a,-a]]\n",
    "#p = [[a,0],[-a,0],[0,0],[0,a],[0,-a],[a,a],[a,-a],[-a,a],[-a,-a],[a/2,0],[-a/2,0],[0,a/2],[0,-a/2]]\n",
    "#p = [[a,0],[-a,0],[0,0],[0,a],[0,-a],[a,a],[a,-a],[-a,a],[-a,-a],[a/2,0],[-a/2,0],[0,a/2],[0,-a/2],[a,a/2],[a,-a/2],[-a,a/2],[-a,-a/2],[a/2,a/2],[a/2,-a/2],[-a/2,a/2],[-a/2,-a/2],[a/2,a],[a/2,-a],[-a/2,a],[-a/2,-a]]\n",
    "p = [[a,0],[-a,0],[0,0],[0,a],[0,-a],[a,a],[a,-a],[-a,a],[-a,-a],[a/2,0],[-a/2,0],[0,a/2],[0,-a/2],[a,a/2],[a,-a/2],[-a,a/2],[-a,-a/2],[a/2,a/2],[a/2,-a/2],[-a/2,a/2],[-a/2,-a/2],[a/2,a],[a/2,-a],[-a/2,a],[-a/2,-a],[(3*a)/2,0],[-(3*a)/2,0],[0,(3*a)/2],[0,-(3*a)/2],[(3*a)/2,a],[(3*a)/2,a/2],[(3*a)/2,-a/2],[(3*a)/2,-a],[a/2,(3*a)/2]]\n",
    "pp = np.array([[-a/2,-a/2],[-a/2,a/2],[a/2,a/2],[a/2,-a/2],[a/2,(3/2)*a],[a/2,-(3/2)*a],[-a/2,(3/2)*a],[-a/2,-(3/2)*a],[(3/2)*a,a/2],[(3/2)*a,-a/2],[(3/2)*a,(3/2)*a],[(3/2)*a,-(3/2)*a],[-(3/2)*a,a/2],[-(3/2)*a,-a/2],[-(3/2)*a,(3/2)*a],[-(3/2)*a,-(3/2)*a]])"
   ]
  },
  {
   "cell_type": "code",
   "execution_count": 3,
   "id": "4c121819-9829-4ccf-a8ec-db9b9998fe58",
   "metadata": {},
   "outputs": [],
   "source": [
    "def matrix_points(p):\n",
    "    #x son los puntos sobre el eje x\n",
    "    x = list(np.array(p)[:,0])\n",
    "    y = list(np.array(p)[:,1])\n",
    "    \n",
    "    #subm_1 es la submatriz compuesta de vectores fila de x\n",
    "    subm_1x = np.array(x*len(x)).reshape(len(x),len(x))\n",
    "    subm_1y = np.array(y*len(y)).reshape(len(y),len(y))\n",
    "    \n",
    "    #subm_2 es la submatriz compuesta de vectores columna repitiendo x\n",
    "    subm_2x = np.transpose(subm_1x)\n",
    "    subm_2y = np.transpose(subm_1y)\n",
    "    \n",
    "    #xi_a es el promedio de cada punto en x con cada uno de los demas puntos\n",
    "    xi_a = (subm_1x+subm_2x)/2\n",
    "    eta_a = (subm_1y+subm_2y)/2\n",
    "    \n",
    "    #xi_d es la distancia de cada punto con cada uno de los demas puntos\n",
    "    xi_d = subm_2x-subm_1x\n",
    "    eta_d = subm_2y-subm_1y\n",
    "    \n",
    "    #vectores de las matrices xi_a y xi_d\n",
    "    xi_av = list(xi_a.reshape(1,len(xi_a)**2))\n",
    "    xi_dv = list(xi_d.reshape(1,len(xi_d)**2))\n",
    "    eta_av = list(eta_a.reshape(1,len(eta_a)**2))\n",
    "    eta_dv = list(eta_d.reshape(1,len(eta_d)**2))\n",
    "    \n",
    "    #matriz con todas las parejas de puntos xi_a y xi_d\n",
    "    xi_m = np.transpose(np.array(xi_av+xi_dv+eta_av+eta_dv)).reshape(len(x),len(x),4)\n",
    "    return xi_m"
   ]
  },
  {
   "cell_type": "markdown",
   "id": "8f277be7-9619-4525-b965-0dc6cfe23362",
   "metadata": {},
   "source": [
    "$$ -\\Delta(x,y) = [R_{2}^{2} - |\\xi_{-}|^{2}]^{1/2} + [R_{1}^{2} - |\\xi_{+}|^{2}]^{1/2} - [R_{1}^{2} - |\\xi_{-}|^{2}]^{1/2} - [R_{2}^{2} - |\\xi_{+}|^{2}]^{1/2} $$"
   ]
  },
  {
   "cell_type": "markdown",
   "id": "3de1a3a4",
   "metadata": {},
   "source": [
    "$$ -\\Delta(x,y) = R_{1}\\left(1 - \\frac{|\\xi_{+}|^{2}}{R_{1}^{2}} \\right)^{1/2} - R_{2}\\left(1 - \\frac{|\\xi_{+}|^{2}}{R_{2}^{2}} \\right)^{1/2} + R_{2}\\left(1 - \\frac{|\\xi_{-}|^{2}}{R_{2}^{2}} \\right)^{1/2} - R_{1}\\left(1 - \\frac{|\\xi_{-}|^{2}}{R_{1}^{2}} \\right)^{1/2}$$"
   ]
  },
  {
   "cell_type": "code",
   "execution_count": 4,
   "id": "00dff8ce-7a89-4391-af9f-f4c85f09131f",
   "metadata": {},
   "outputs": [],
   "source": [
    "def GeometricPotencial_3D_00_reducido(xa, xi_a, xi_d, ya, eta_a, eta_d, za, wa,c):\n",
    "    #constantes\n",
    "    pic = 1 / ((4*np.pi) ** 2)\n",
    "    k = ((2*np.pi)/wa)\n",
    "    \n",
    "    xi_p, xi_n = xi_a+(xi_d)/2, xi_a-(xi_d)/2\n",
    "    eta_p, eta_n = eta_a+(eta_d)/2, eta_a-(eta_d)/2\n",
    "    \n",
    "    R1 = 5*w\n",
    "    R2 = -5*w\n",
    "    normPlus  = (xi_p**2) + (eta_p**2)\n",
    "    normMinus = (xi_n**2) + (eta_n**2)\n",
    "    \n",
    "    # fase dentro y fuera de la lente para +\n",
    "    if (normPlus > (R1 ** 2)) or (normPlus > (R2 ** 2)):\n",
    "        phase_plus = 0\n",
    "    else:\n",
    "        phase_plus  = R1 * np.sqrt(1 - (normPlus / (R1 ** 2)) + 0j) - R2 * np.sqrt(1 - (normPlus / (R2 ** 2)) + 0j)\n",
    "        \n",
    "    # fase dentro y fuera de la lente para -\n",
    "    if (normMinus > (R1 ** 2)) or (normMinus > (R2 ** 2)):\n",
    "        phase_minus = 0\n",
    "    else:\n",
    "        phase_minus = R1 * np.sqrt(1 - (normMinus / (R1 ** 2)) + 0j) - R2 * np.sqrt(1 - (normMinus / (R2 ** 2)) + 0j)\n",
    "    \n",
    "    \n",
    "    \n",
    "    #phase_plus  = R1 * np.sqrt(1 - (normPlus / (R1 ** 2)) + 0j) - R2 * np.sqrt(1 - (normPlus / (R2 ** 2)) + 0j)\n",
    "    #phase_minus = R1 * np.sqrt(1 - (normMinus / (R1 ** 2)) + 0j) - R2 * np.sqrt(1 - (normMinus / (R2 ** 2)) + 0j)\n",
    "    phase = np.exp(np.complex128(-1j*k*(phase_plus)*c)) * np.exp(np.complex128(1j*k*(phase_minus)*c))\n",
    "    \n",
    "    #distancia s\n",
    "    s_1 = np.sqrt(((xa-xi_p) ** 2) + ((ya-eta_p) **2) + ((za) ** 2))\n",
    "    s_2 = np.sqrt(((xa-xi_n) **2) + ((ya-eta_n) ** 2) + ((za) ** 2))\n",
    "    \n",
    "    #kernel\n",
    "    #kernel = 2*((k**2)*pic) * ((za+0.5*s_1)/(s_1 ** 2)) * ((za+0.5*s_2)/(s_2 ** 2)) * np.cos(k*s_1-k*s_2+phase*k*0)\n",
    "    kernel_0 = 2*((k**2)*pic) * ((za+s_1)/(s_1 ** 2)) * ((za+s_2)/(s_2 ** 2)) * np.exp(1j*k*s_1-1j*k*s_2) * phase \n",
    "    kernel = np.real(kernel_0)\n",
    "    #print(phase)\n",
    "    return kernel\n",
    "\n",
    "def GeometricPotencial_3D_Real(xa, ya, za, p, wa,c):\n",
    "    sum_r = 0\n",
    "    matrix_complete = matrix_points(p)\n",
    "    matrix_real = np.einsum('iij->ij', matrix_complete)\n",
    "    for i in matrix_real:\n",
    "        sum_r = sum_r + GeometricPotencial_3D_00_reducido(xa,i[0],i[1],ya,i[2],i[3],za,wa,c)\n",
    "    return sum_r\n",
    "\n",
    "def GeometricPotencial_3D_Virtual(xa, ya, za, p, wa,c):\n",
    "    sum_v = 0\n",
    "    matrix_complete = matrix_points(p)\n",
    "    matrix_virtual = []\n",
    "    \n",
    "    for i in range(0,len(matrix_complete)):\n",
    "        for j in range(0,len(matrix_complete)):\n",
    "            if i != j:\n",
    "                matrix_virtual.append(list(matrix_complete[i,j]))\n",
    "    \n",
    "    matrix_virtual = np.array(matrix_virtual)\n",
    "    \n",
    "    for k in matrix_virtual:\n",
    "        sum_v = sum_v + GeometricPotencial_3D_00_reducido(xa,k[0],k[1],ya,k[2],k[3],za,wa,c)\n",
    "    return sum_v\n",
    "\n",
    "def GeometricPotencial_3D_reducido(xa, ya, za, p, wa,c):\n",
    "    sum_t = 1*GeometricPotencial_3D_Real(xa, ya, za, p, wa,c) + 1*GeometricPotencial_3D_Virtual(xa, ya, za, p, wa,c)\n",
    "    return sum_t"
   ]
  },
  {
   "cell_type": "code",
   "execution_count": 5,
   "id": "1db44d71-d6f5-4217-9283-e2086ece0a5a",
   "metadata": {
    "tags": []
   },
   "outputs": [
    {
     "data": {
      "text/plain": [
       "1e-05"
      ]
     },
     "execution_count": 5,
     "metadata": {},
     "output_type": "execute_result"
    }
   ],
   "source": [
    "(((1/50) - (1/-50)) * (1/w)) ** -1"
   ]
  },
  {
   "cell_type": "markdown",
   "id": "054377af-41c6-4256-9720-2d194ac1aad3",
   "metadata": {},
   "source": [
    "La estructura de la propagación con la función de transmisión de enfoque es muy similar a la de la propagación original, sin embargo la función de transmisión funciona como una especie de seleccionador, aumentando la intensidad en donde debería estar el foco."
   ]
  },
  {
   "cell_type": "code",
   "execution_count": 169,
   "id": "41378516-0534-4709-b91b-99a18592d639",
   "metadata": {
    "tags": []
   },
   "outputs": [
    {
     "data": {
      "image/png": "[encoded data removed]",
      "text/plain": [
       "<Figure size 640x480 with 1 Axes>"
      ]
     },
     "metadata": {},
     "output_type": "display_data"
    }
   ],
   "source": [
    "zzz = np.linspace(1.5*w, 300*w, 1000)\n",
    "z2  = (1 + (zzz**2))\n",
    "z_plot_0 = np.array(list(GeometricPotencial_3D_reducido(1*w,0,zzz,pp,w,0)), dtype=float)\n",
    "z_plot_1 = np.array(list(GeometricPotencial_3D_reducido(1*w,0,zzz,pp,w,1)), dtype=float)\n",
    "\n",
    "fig, ax = plt.subplots()\n",
    "ax.plot(zzz, z_plot_0, label=\"0\", color=\"#191970\")\n",
    "ax.plot(zzz, z_plot_1, label=\"1\", color=\"#9F2B68\")\n",
    "ax.legend()\n",
    "#plt.xlim([1530,1570])\n",
    "#plt.ylim([-40,1])\n",
    "plt.show()"
   ]
  },
  {
   "cell_type": "code",
   "execution_count": 206,
   "id": "8a91fe8d",
   "metadata": {},
   "outputs": [
    {
     "data": {
      "image/png": "[encoded data removed]",
      "text/plain": [
       "<Figure size 640x480 with 1 Axes>"
      ]
     },
     "metadata": {},
     "output_type": "display_data"
    }
   ],
   "source": [
    "n = np.linspace(0,1000,2000)\n",
    "fftsin = (abs(fft.fft(np.sin(n))))\n",
    "\n",
    "fig, ax = plt.subplots()\n",
    "ax.plot(fftsin, label=\"1\", color=\"#9F2B68\")\n",
    "ax.legend()\n",
    "#plt.xlim([0,200])\n",
    "#plt.ylim([-40,1])\n",
    "plt.show()"
   ]
  },
  {
   "cell_type": "code",
   "execution_count": 121,
   "id": "a073de14-c2e1-4b85-9742-7c4df682964e",
   "metadata": {},
   "outputs": [
    {
     "ename": "KeyboardInterrupt",
     "evalue": "",
     "output_type": "error",
     "traceback": [
      "\u001b[0;31m---------------------------------------------------------------------------\u001b[0m",
      "\u001b[0;31mKeyboardInterrupt\u001b[0m                         Traceback (most recent call last)",
      "File \u001b[0;32m<timed exec>:2\u001b[0m\n",
      "Cell \u001b[0;32mIn[4], line 68\u001b[0m, in \u001b[0;36mGeometricPotencial_3D_reducido\u001b[0;34m(xa, ya, za, p, wa, c)\u001b[0m\n\u001b[1;32m     67\u001b[0m \u001b[38;5;28;01mdef\u001b[39;00m \u001b[38;5;21mGeometricPotencial_3D_reducido\u001b[39m(xa, ya, za, p, wa,c):\n\u001b[0;32m---> 68\u001b[0m     sum_t \u001b[38;5;241m=\u001b[39m \u001b[38;5;241m1\u001b[39m\u001b[38;5;241m*\u001b[39mGeometricPotencial_3D_Real(xa, ya, za, p, wa,c) \u001b[38;5;241m+\u001b[39m \u001b[38;5;241m1\u001b[39m\u001b[38;5;241m*\u001b[39m\u001b[43mGeometricPotencial_3D_Virtual\u001b[49m\u001b[43m(\u001b[49m\u001b[43mxa\u001b[49m\u001b[43m,\u001b[49m\u001b[43m \u001b[49m\u001b[43mya\u001b[49m\u001b[43m,\u001b[49m\u001b[43m \u001b[49m\u001b[43mza\u001b[49m\u001b[43m,\u001b[49m\u001b[43m \u001b[49m\u001b[43mp\u001b[49m\u001b[43m,\u001b[49m\u001b[43m \u001b[49m\u001b[43mwa\u001b[49m\u001b[43m,\u001b[49m\u001b[43mc\u001b[49m\u001b[43m)\u001b[49m\n\u001b[1;32m     69\u001b[0m     \u001b[38;5;28;01mreturn\u001b[39;00m sum_t\n",
      "Cell \u001b[0;32mIn[4], line 64\u001b[0m, in \u001b[0;36mGeometricPotencial_3D_Virtual\u001b[0;34m(xa, ya, za, p, wa, c)\u001b[0m\n\u001b[1;32m     61\u001b[0m matrix_virtual \u001b[38;5;241m=\u001b[39m np\u001b[38;5;241m.\u001b[39marray(matrix_virtual)\n\u001b[1;32m     63\u001b[0m \u001b[38;5;28;01mfor\u001b[39;00m k \u001b[38;5;129;01min\u001b[39;00m matrix_virtual:\n\u001b[0;32m---> 64\u001b[0m     sum_v \u001b[38;5;241m=\u001b[39m sum_v \u001b[38;5;241m+\u001b[39m \u001b[43mGeometricPotencial_3D_00_reducido\u001b[49m\u001b[43m(\u001b[49m\u001b[43mxa\u001b[49m\u001b[43m,\u001b[49m\u001b[43mk\u001b[49m\u001b[43m[\u001b[49m\u001b[38;5;241;43m0\u001b[39;49m\u001b[43m]\u001b[49m\u001b[43m,\u001b[49m\u001b[43mk\u001b[49m\u001b[43m[\u001b[49m\u001b[38;5;241;43m1\u001b[39;49m\u001b[43m]\u001b[49m\u001b[43m,\u001b[49m\u001b[43mya\u001b[49m\u001b[43m,\u001b[49m\u001b[43mk\u001b[49m\u001b[43m[\u001b[49m\u001b[38;5;241;43m2\u001b[39;49m\u001b[43m]\u001b[49m\u001b[43m,\u001b[49m\u001b[43mk\u001b[49m\u001b[43m[\u001b[49m\u001b[38;5;241;43m3\u001b[39;49m\u001b[43m]\u001b[49m\u001b[43m,\u001b[49m\u001b[43mza\u001b[49m\u001b[43m,\u001b[49m\u001b[43mwa\u001b[49m\u001b[43m,\u001b[49m\u001b[43mc\u001b[49m\u001b[43m)\u001b[49m\n\u001b[1;32m     65\u001b[0m \u001b[38;5;28;01mreturn\u001b[39;00m sum_v\n",
      "Cell \u001b[0;32mIn[4], line 34\u001b[0m, in \u001b[0;36mGeometricPotencial_3D_00_reducido\u001b[0;34m(xa, xi_a, xi_d, ya, eta_a, eta_d, za, wa, c)\u001b[0m\n\u001b[1;32m     32\u001b[0m \u001b[38;5;66;03m#distancia s\u001b[39;00m\n\u001b[1;32m     33\u001b[0m s_1 \u001b[38;5;241m=\u001b[39m np\u001b[38;5;241m.\u001b[39msqrt(((xa\u001b[38;5;241m-\u001b[39mxi_p) \u001b[38;5;241m*\u001b[39m\u001b[38;5;241m*\u001b[39m \u001b[38;5;241m2\u001b[39m) \u001b[38;5;241m+\u001b[39m ((ya\u001b[38;5;241m-\u001b[39meta_p) \u001b[38;5;241m*\u001b[39m\u001b[38;5;241m*\u001b[39m\u001b[38;5;241m2\u001b[39m) \u001b[38;5;241m+\u001b[39m ((za) \u001b[38;5;241m*\u001b[39m\u001b[38;5;241m*\u001b[39m \u001b[38;5;241m2\u001b[39m))\n\u001b[0;32m---> 34\u001b[0m s_2 \u001b[38;5;241m=\u001b[39m \u001b[43mnp\u001b[49m\u001b[38;5;241;43m.\u001b[39;49m\u001b[43msqrt\u001b[49m\u001b[43m(\u001b[49m\u001b[43m(\u001b[49m\u001b[43m(\u001b[49m\u001b[43mxa\u001b[49m\u001b[38;5;241;43m-\u001b[39;49m\u001b[43mxi_n\u001b[49m\u001b[43m)\u001b[49m\u001b[43m \u001b[49m\u001b[38;5;241;43m*\u001b[39;49m\u001b[38;5;241;43m*\u001b[39;49m\u001b[38;5;241;43m2\u001b[39;49m\u001b[43m)\u001b[49m\u001b[43m \u001b[49m\u001b[38;5;241;43m+\u001b[39;49m\u001b[43m \u001b[49m\u001b[43m(\u001b[49m\u001b[43m(\u001b[49m\u001b[43mya\u001b[49m\u001b[38;5;241;43m-\u001b[39;49m\u001b[43meta_n\u001b[49m\u001b[43m)\u001b[49m\u001b[43m \u001b[49m\u001b[38;5;241;43m*\u001b[39;49m\u001b[38;5;241;43m*\u001b[39;49m\u001b[43m \u001b[49m\u001b[38;5;241;43m2\u001b[39;49m\u001b[43m)\u001b[49m\u001b[43m \u001b[49m\u001b[38;5;241;43m+\u001b[39;49m\u001b[43m \u001b[49m\u001b[43m(\u001b[49m\u001b[43m(\u001b[49m\u001b[43mza\u001b[49m\u001b[43m)\u001b[49m\u001b[43m \u001b[49m\u001b[38;5;241;43m*\u001b[39;49m\u001b[38;5;241;43m*\u001b[39;49m\u001b[43m \u001b[49m\u001b[38;5;241;43m2\u001b[39;49m\u001b[43m)\u001b[49m\u001b[43m)\u001b[49m\n\u001b[1;32m     36\u001b[0m \u001b[38;5;66;03m#kernel\u001b[39;00m\n\u001b[1;32m     37\u001b[0m \u001b[38;5;66;03m#kernel = 2*((k**2)*pic) * ((za+0.5*s_1)/(s_1 ** 2)) * ((za+0.5*s_2)/(s_2 ** 2)) * np.cos(k*s_1-k*s_2+phase*k*0)\u001b[39;00m\n\u001b[1;32m     38\u001b[0m kernel_0 \u001b[38;5;241m=\u001b[39m \u001b[38;5;241m2\u001b[39m\u001b[38;5;241m*\u001b[39m((k\u001b[38;5;241m*\u001b[39m\u001b[38;5;241m*\u001b[39m\u001b[38;5;241m2\u001b[39m)\u001b[38;5;241m*\u001b[39mpic) \u001b[38;5;241m*\u001b[39m ((za\u001b[38;5;241m+\u001b[39ms_1)\u001b[38;5;241m/\u001b[39m(s_1 \u001b[38;5;241m*\u001b[39m\u001b[38;5;241m*\u001b[39m \u001b[38;5;241m2\u001b[39m)) \u001b[38;5;241m*\u001b[39m ((za\u001b[38;5;241m+\u001b[39ms_2)\u001b[38;5;241m/\u001b[39m(s_2 \u001b[38;5;241m*\u001b[39m\u001b[38;5;241m*\u001b[39m \u001b[38;5;241m2\u001b[39m)) \u001b[38;5;241m*\u001b[39m np\u001b[38;5;241m.\u001b[39mexp(\u001b[38;5;241m1\u001b[39mj\u001b[38;5;241m*\u001b[39mk\u001b[38;5;241m*\u001b[39ms_1\u001b[38;5;241m-\u001b[39m\u001b[38;5;241m1\u001b[39mj\u001b[38;5;241m*\u001b[39mk\u001b[38;5;241m*\u001b[39ms_2) \u001b[38;5;241m*\u001b[39m phase \n",
      "\u001b[0;31mKeyboardInterrupt\u001b[0m: "
     ]
    }
   ],
   "source": [
    "%%time\n",
    "xx,zzz = np.meshgrid(np.linspace(-40*w, 40*w, 1000), np.linspace(10*w, 100*w, 1000))\n",
    "zz = np.array(list(GeometricPotencial_3D_reducido(xx,0,zzz,p,w,1)), dtype=float)\n",
    "#zz = zz[:-1, :-1]\n",
    "z_min, z_max = zz.min()/1, zz.max()/1\n",
    "\n",
    "zz = zz / z_max\n",
    "\n",
    "fig, ax = plt.subplots(dpi=150)\n",
    "c = ax.pcolormesh(zzz, xx, zz, cmap='Spectral_r',  vmin = zz.min(), vmax = zz.max())\n",
    "fig.colorbar(c, ax = ax)\n",
    "ax.set_title('GeometricPotencial_3D')\n",
    "#plt.savefig(\"Confinamiento\")\n",
    "plt.show()"
   ]
  },
  {
   "cell_type": "code",
   "execution_count": 8,
   "id": "ff7b13de-9595-43c7-b1de-63d87119a73d",
   "metadata": {
    "tags": []
   },
   "outputs": [
    {
     "ename": "KeyboardInterrupt",
     "evalue": "",
     "output_type": "error",
     "traceback": [
      "\u001b[0;31m---------------------------------------------------------------------------\u001b[0m",
      "\u001b[0;31mKeyboardInterrupt\u001b[0m                         Traceback (most recent call last)",
      "File \u001b[0;32m<timed exec>:2\u001b[0m\n",
      "Cell \u001b[0;32mIn[4], line 68\u001b[0m, in \u001b[0;36mGeometricPotencial_3D_reducido\u001b[0;34m(xa, ya, za, p, wa, c)\u001b[0m\n\u001b[1;32m     67\u001b[0m \u001b[38;5;28;01mdef\u001b[39;00m \u001b[38;5;21mGeometricPotencial_3D_reducido\u001b[39m(xa, ya, za, p, wa,c):\n\u001b[0;32m---> 68\u001b[0m     sum_t \u001b[38;5;241m=\u001b[39m \u001b[38;5;241m1\u001b[39m\u001b[38;5;241m*\u001b[39m\u001b[43mGeometricPotencial_3D_Real\u001b[49m\u001b[43m(\u001b[49m\u001b[43mxa\u001b[49m\u001b[43m,\u001b[49m\u001b[43m \u001b[49m\u001b[43mya\u001b[49m\u001b[43m,\u001b[49m\u001b[43m \u001b[49m\u001b[43mza\u001b[49m\u001b[43m,\u001b[49m\u001b[43m \u001b[49m\u001b[43mp\u001b[49m\u001b[43m,\u001b[49m\u001b[43m \u001b[49m\u001b[43mwa\u001b[49m\u001b[43m,\u001b[49m\u001b[43mc\u001b[49m\u001b[43m)\u001b[49m \u001b[38;5;241m+\u001b[39m \u001b[38;5;241m1\u001b[39m\u001b[38;5;241m*\u001b[39mGeometricPotencial_3D_Virtual(xa, ya, za, p, wa,c)\n\u001b[1;32m     69\u001b[0m     \u001b[38;5;28;01mreturn\u001b[39;00m sum_t\n",
      "Cell \u001b[0;32mIn[4], line 48\u001b[0m, in \u001b[0;36mGeometricPotencial_3D_Real\u001b[0;34m(xa, ya, za, p, wa, c)\u001b[0m\n\u001b[1;32m     46\u001b[0m matrix_real \u001b[38;5;241m=\u001b[39m np\u001b[38;5;241m.\u001b[39meinsum(\u001b[38;5;124m'\u001b[39m\u001b[38;5;124miij->ij\u001b[39m\u001b[38;5;124m'\u001b[39m, matrix_complete)\n\u001b[1;32m     47\u001b[0m \u001b[38;5;28;01mfor\u001b[39;00m i \u001b[38;5;129;01min\u001b[39;00m matrix_real:\n\u001b[0;32m---> 48\u001b[0m     sum_r \u001b[38;5;241m=\u001b[39m sum_r \u001b[38;5;241m+\u001b[39m \u001b[43mGeometricPotencial_3D_00_reducido\u001b[49m\u001b[43m(\u001b[49m\u001b[43mxa\u001b[49m\u001b[43m,\u001b[49m\u001b[43mi\u001b[49m\u001b[43m[\u001b[49m\u001b[38;5;241;43m0\u001b[39;49m\u001b[43m]\u001b[49m\u001b[43m,\u001b[49m\u001b[43mi\u001b[49m\u001b[43m[\u001b[49m\u001b[38;5;241;43m1\u001b[39;49m\u001b[43m]\u001b[49m\u001b[43m,\u001b[49m\u001b[43mya\u001b[49m\u001b[43m,\u001b[49m\u001b[43mi\u001b[49m\u001b[43m[\u001b[49m\u001b[38;5;241;43m2\u001b[39;49m\u001b[43m]\u001b[49m\u001b[43m,\u001b[49m\u001b[43mi\u001b[49m\u001b[43m[\u001b[49m\u001b[38;5;241;43m3\u001b[39;49m\u001b[43m]\u001b[49m\u001b[43m,\u001b[49m\u001b[43mza\u001b[49m\u001b[43m,\u001b[49m\u001b[43mwa\u001b[49m\u001b[43m,\u001b[49m\u001b[43mc\u001b[49m\u001b[43m)\u001b[49m\n\u001b[1;32m     49\u001b[0m \u001b[38;5;28;01mreturn\u001b[39;00m sum_r\n",
      "Cell \u001b[0;32mIn[4], line 38\u001b[0m, in \u001b[0;36mGeometricPotencial_3D_00_reducido\u001b[0;34m(xa, xi_a, xi_d, ya, eta_a, eta_d, za, wa, c)\u001b[0m\n\u001b[1;32m     34\u001b[0m s_2 \u001b[38;5;241m=\u001b[39m np\u001b[38;5;241m.\u001b[39msqrt(((xa\u001b[38;5;241m-\u001b[39mxi_n) \u001b[38;5;241m*\u001b[39m\u001b[38;5;241m*\u001b[39m\u001b[38;5;241m2\u001b[39m) \u001b[38;5;241m+\u001b[39m ((ya\u001b[38;5;241m-\u001b[39meta_n) \u001b[38;5;241m*\u001b[39m\u001b[38;5;241m*\u001b[39m \u001b[38;5;241m2\u001b[39m) \u001b[38;5;241m+\u001b[39m ((za) \u001b[38;5;241m*\u001b[39m\u001b[38;5;241m*\u001b[39m \u001b[38;5;241m2\u001b[39m))\n\u001b[1;32m     36\u001b[0m \u001b[38;5;66;03m#kernel\u001b[39;00m\n\u001b[1;32m     37\u001b[0m \u001b[38;5;66;03m#kernel = 2*((k**2)*pic) * ((za+0.5*s_1)/(s_1 ** 2)) * ((za+0.5*s_2)/(s_2 ** 2)) * np.cos(k*s_1-k*s_2+phase*k*0)\u001b[39;00m\n\u001b[0;32m---> 38\u001b[0m kernel_0 \u001b[38;5;241m=\u001b[39m \u001b[38;5;241m2\u001b[39m\u001b[38;5;241m*\u001b[39m((k\u001b[38;5;241m*\u001b[39m\u001b[38;5;241m*\u001b[39m\u001b[38;5;241m2\u001b[39m)\u001b[38;5;241m*\u001b[39mpic) \u001b[38;5;241m*\u001b[39m ((za\u001b[38;5;241m+\u001b[39ms_1)\u001b[38;5;241m/\u001b[39m(s_1 \u001b[38;5;241m*\u001b[39m\u001b[38;5;241m*\u001b[39m \u001b[38;5;241m2\u001b[39m)) \u001b[38;5;241m*\u001b[39m ((za\u001b[38;5;241m+\u001b[39ms_2)\u001b[38;5;241m/\u001b[39m(s_2 \u001b[38;5;241m*\u001b[39m\u001b[38;5;241m*\u001b[39m \u001b[38;5;241m2\u001b[39m)) \u001b[38;5;241m*\u001b[39m \u001b[43mnp\u001b[49m\u001b[38;5;241;43m.\u001b[39;49m\u001b[43mexp\u001b[49m\u001b[43m(\u001b[49m\u001b[38;5;241;43m1\u001b[39;49m\u001b[43mj\u001b[49m\u001b[38;5;241;43m*\u001b[39;49m\u001b[43mk\u001b[49m\u001b[38;5;241;43m*\u001b[39;49m\u001b[43ms_1\u001b[49m\u001b[38;5;241;43m-\u001b[39;49m\u001b[38;5;241;43m1\u001b[39;49m\u001b[43mj\u001b[49m\u001b[38;5;241;43m*\u001b[39;49m\u001b[43mk\u001b[49m\u001b[38;5;241;43m*\u001b[39;49m\u001b[43ms_2\u001b[49m\u001b[43m)\u001b[49m \u001b[38;5;241m*\u001b[39m phase \n\u001b[1;32m     39\u001b[0m kernel \u001b[38;5;241m=\u001b[39m np\u001b[38;5;241m.\u001b[39mreal(kernel_0)\n\u001b[1;32m     40\u001b[0m \u001b[38;5;66;03m#print(phase)\u001b[39;00m\n",
      "\u001b[0;31mKeyboardInterrupt\u001b[0m: "
     ]
    }
   ],
   "source": [
    "%%time\n",
    "xx,zzz = np.meshgrid(np.linspace(-40*w, 40*w, 1000), np.linspace(15*w, 100*w, 1000))\n",
    "zz = np.array(list(GeometricPotencial_3D_reducido(xx,0,zzz,p,w,0)), dtype=float)\n",
    "#zz = zz[:-1, :-1]\n",
    "z_min, z_max = zz.min()/1, zz.max()/1\n",
    "\n",
    "zz = zz / z_max\n",
    "\n",
    "fig, ax = plt.subplots(dpi=150)\n",
    "c = ax.pcolormesh(zzz, xx, zz, cmap='Spectral_r',  vmin = zz.min(), vmax = zz.max())\n",
    "fig.colorbar(c, ax = ax)\n",
    "ax.set_title('GeometricPotencial_3D')\n",
    "#plt.savefig(\"Confinamiento\")\n",
    "plt.show()"
   ]
  },
  {
   "cell_type": "code",
   "execution_count": 9,
   "id": "c2bed162-0102-4cab-b6a6-1298b07809d2",
   "metadata": {},
   "outputs": [
    {
     "ename": "KeyboardInterrupt",
     "evalue": "",
     "output_type": "error",
     "traceback": [
      "\u001b[0;31m---------------------------------------------------------------------------\u001b[0m",
      "\u001b[0;31mKeyboardInterrupt\u001b[0m                         Traceback (most recent call last)",
      "File \u001b[0;32m<timed exec>:5\u001b[0m\n",
      "Cell \u001b[0;32mIn[4], line 68\u001b[0m, in \u001b[0;36mGeometricPotencial_3D_reducido\u001b[0;34m(xa, ya, za, p, wa, c)\u001b[0m\n\u001b[1;32m     67\u001b[0m \u001b[38;5;28;01mdef\u001b[39;00m \u001b[38;5;21mGeometricPotencial_3D_reducido\u001b[39m(xa, ya, za, p, wa,c):\n\u001b[0;32m---> 68\u001b[0m     sum_t \u001b[38;5;241m=\u001b[39m \u001b[38;5;241m1\u001b[39m\u001b[38;5;241m*\u001b[39m\u001b[43mGeometricPotencial_3D_Real\u001b[49m\u001b[43m(\u001b[49m\u001b[43mxa\u001b[49m\u001b[43m,\u001b[49m\u001b[43m \u001b[49m\u001b[43mya\u001b[49m\u001b[43m,\u001b[49m\u001b[43m \u001b[49m\u001b[43mza\u001b[49m\u001b[43m,\u001b[49m\u001b[43m \u001b[49m\u001b[43mp\u001b[49m\u001b[43m,\u001b[49m\u001b[43m \u001b[49m\u001b[43mwa\u001b[49m\u001b[43m,\u001b[49m\u001b[43mc\u001b[49m\u001b[43m)\u001b[49m \u001b[38;5;241m+\u001b[39m \u001b[38;5;241m1\u001b[39m\u001b[38;5;241m*\u001b[39mGeometricPotencial_3D_Virtual(xa, ya, za, p, wa,c)\n\u001b[1;32m     69\u001b[0m     \u001b[38;5;28;01mreturn\u001b[39;00m sum_t\n",
      "Cell \u001b[0;32mIn[4], line 48\u001b[0m, in \u001b[0;36mGeometricPotencial_3D_Real\u001b[0;34m(xa, ya, za, p, wa, c)\u001b[0m\n\u001b[1;32m     46\u001b[0m matrix_real \u001b[38;5;241m=\u001b[39m np\u001b[38;5;241m.\u001b[39meinsum(\u001b[38;5;124m'\u001b[39m\u001b[38;5;124miij->ij\u001b[39m\u001b[38;5;124m'\u001b[39m, matrix_complete)\n\u001b[1;32m     47\u001b[0m \u001b[38;5;28;01mfor\u001b[39;00m i \u001b[38;5;129;01min\u001b[39;00m matrix_real:\n\u001b[0;32m---> 48\u001b[0m     sum_r \u001b[38;5;241m=\u001b[39m sum_r \u001b[38;5;241m+\u001b[39m \u001b[43mGeometricPotencial_3D_00_reducido\u001b[49m\u001b[43m(\u001b[49m\u001b[43mxa\u001b[49m\u001b[43m,\u001b[49m\u001b[43mi\u001b[49m\u001b[43m[\u001b[49m\u001b[38;5;241;43m0\u001b[39;49m\u001b[43m]\u001b[49m\u001b[43m,\u001b[49m\u001b[43mi\u001b[49m\u001b[43m[\u001b[49m\u001b[38;5;241;43m1\u001b[39;49m\u001b[43m]\u001b[49m\u001b[43m,\u001b[49m\u001b[43mya\u001b[49m\u001b[43m,\u001b[49m\u001b[43mi\u001b[49m\u001b[43m[\u001b[49m\u001b[38;5;241;43m2\u001b[39;49m\u001b[43m]\u001b[49m\u001b[43m,\u001b[49m\u001b[43mi\u001b[49m\u001b[43m[\u001b[49m\u001b[38;5;241;43m3\u001b[39;49m\u001b[43m]\u001b[49m\u001b[43m,\u001b[49m\u001b[43mza\u001b[49m\u001b[43m,\u001b[49m\u001b[43mwa\u001b[49m\u001b[43m,\u001b[49m\u001b[43mc\u001b[49m\u001b[43m)\u001b[49m\n\u001b[1;32m     49\u001b[0m \u001b[38;5;28;01mreturn\u001b[39;00m sum_r\n",
      "Cell \u001b[0;32mIn[4], line 33\u001b[0m, in \u001b[0;36mGeometricPotencial_3D_00_reducido\u001b[0;34m(xa, xi_a, xi_d, ya, eta_a, eta_d, za, wa, c)\u001b[0m\n\u001b[1;32m     30\u001b[0m phase \u001b[38;5;241m=\u001b[39m np\u001b[38;5;241m.\u001b[39mexp(np\u001b[38;5;241m.\u001b[39mcomplex128(\u001b[38;5;241m-\u001b[39m\u001b[38;5;241m1\u001b[39mj\u001b[38;5;241m*\u001b[39mk\u001b[38;5;241m*\u001b[39m(phase_plus)\u001b[38;5;241m*\u001b[39mc)) \u001b[38;5;241m*\u001b[39m np\u001b[38;5;241m.\u001b[39mexp(np\u001b[38;5;241m.\u001b[39mcomplex128(\u001b[38;5;241m1\u001b[39mj\u001b[38;5;241m*\u001b[39mk\u001b[38;5;241m*\u001b[39m(phase_minus)\u001b[38;5;241m*\u001b[39mc))\n\u001b[1;32m     32\u001b[0m \u001b[38;5;66;03m#distancia s\u001b[39;00m\n\u001b[0;32m---> 33\u001b[0m s_1 \u001b[38;5;241m=\u001b[39m \u001b[43mnp\u001b[49m\u001b[38;5;241;43m.\u001b[39;49m\u001b[43msqrt\u001b[49m\u001b[43m(\u001b[49m\u001b[43m(\u001b[49m\u001b[43m(\u001b[49m\u001b[43mxa\u001b[49m\u001b[38;5;241;43m-\u001b[39;49m\u001b[43mxi_p\u001b[49m\u001b[43m)\u001b[49m\u001b[43m \u001b[49m\u001b[38;5;241;43m*\u001b[39;49m\u001b[38;5;241;43m*\u001b[39;49m\u001b[43m \u001b[49m\u001b[38;5;241;43m2\u001b[39;49m\u001b[43m)\u001b[49m\u001b[43m \u001b[49m\u001b[38;5;241;43m+\u001b[39;49m\u001b[43m \u001b[49m\u001b[43m(\u001b[49m\u001b[43m(\u001b[49m\u001b[43mya\u001b[49m\u001b[38;5;241;43m-\u001b[39;49m\u001b[43meta_p\u001b[49m\u001b[43m)\u001b[49m\u001b[43m \u001b[49m\u001b[38;5;241;43m*\u001b[39;49m\u001b[38;5;241;43m*\u001b[39;49m\u001b[38;5;241;43m2\u001b[39;49m\u001b[43m)\u001b[49m\u001b[43m \u001b[49m\u001b[38;5;241;43m+\u001b[39;49m\u001b[43m \u001b[49m\u001b[43m(\u001b[49m\u001b[43m(\u001b[49m\u001b[43mza\u001b[49m\u001b[43m)\u001b[49m\u001b[43m \u001b[49m\u001b[38;5;241;43m*\u001b[39;49m\u001b[38;5;241;43m*\u001b[39;49m\u001b[43m \u001b[49m\u001b[38;5;241;43m2\u001b[39;49m\u001b[43m)\u001b[49m\u001b[43m)\u001b[49m\n\u001b[1;32m     34\u001b[0m s_2 \u001b[38;5;241m=\u001b[39m np\u001b[38;5;241m.\u001b[39msqrt(((xa\u001b[38;5;241m-\u001b[39mxi_n) \u001b[38;5;241m*\u001b[39m\u001b[38;5;241m*\u001b[39m\u001b[38;5;241m2\u001b[39m) \u001b[38;5;241m+\u001b[39m ((ya\u001b[38;5;241m-\u001b[39meta_n) \u001b[38;5;241m*\u001b[39m\u001b[38;5;241m*\u001b[39m \u001b[38;5;241m2\u001b[39m) \u001b[38;5;241m+\u001b[39m ((za) \u001b[38;5;241m*\u001b[39m\u001b[38;5;241m*\u001b[39m \u001b[38;5;241m2\u001b[39m))\n\u001b[1;32m     36\u001b[0m \u001b[38;5;66;03m#kernel\u001b[39;00m\n\u001b[1;32m     37\u001b[0m \u001b[38;5;66;03m#kernel = 2*((k**2)*pic) * ((za+0.5*s_1)/(s_1 ** 2)) * ((za+0.5*s_2)/(s_2 ** 2)) * np.cos(k*s_1-k*s_2+phase*k*0)\u001b[39;00m\n",
      "\u001b[0;31mKeyboardInterrupt\u001b[0m: "
     ]
    }
   ],
   "source": [
    "%%time\n",
    "square = np.linspace(-100*w, 100*w, 1000)\n",
    "dz = .410*w\n",
    "phase = 0\n",
    "xx,yy = np.meshgrid(square, square)\n",
    "zz = np.array(list(GeometricPotencial_3D_reducido(xx,yy,dz,p,w,phase)), dtype=float)\n",
    "#zz = zz[:-1, :-1]\n",
    "z_min, z_max = zz.min()/1, zz.max()/1\n",
    "\n",
    "fig, (ax) = plt.subplots(dpi=150, subplot_kw={'aspect': 'equal'})\n",
    "c = ax.pcolormesh(xx, yy, zz, cmap='rainbow',  vmin = z_min, vmax = z_max)\n",
    "fig.colorbar(c, ax = ax)\n",
    "plt.savefig(\"Geometric Potencial_coherence\")\n",
    "plt.show()\n",
    "dz, 30*w"
   ]
  },
  {
   "cell_type": "code",
   "execution_count": 10,
   "id": "7e47b2cc-0c12-4d7f-a760-7b179663dae2",
   "metadata": {},
   "outputs": [
    {
     "ename": "KeyboardInterrupt",
     "evalue": "",
     "output_type": "error",
     "traceback": [
      "\u001b[0;31m---------------------------------------------------------------------------\u001b[0m",
      "\u001b[0;31mKeyboardInterrupt\u001b[0m                         Traceback (most recent call last)",
      "File \u001b[0;32m<timed exec>:6\u001b[0m\n",
      "Cell \u001b[0;32mIn[4], line 68\u001b[0m, in \u001b[0;36mGeometricPotencial_3D_reducido\u001b[0;34m(xa, ya, za, p, wa, c)\u001b[0m\n\u001b[1;32m     67\u001b[0m \u001b[38;5;28;01mdef\u001b[39;00m \u001b[38;5;21mGeometricPotencial_3D_reducido\u001b[39m(xa, ya, za, p, wa,c):\n\u001b[0;32m---> 68\u001b[0m     sum_t \u001b[38;5;241m=\u001b[39m \u001b[38;5;241m1\u001b[39m\u001b[38;5;241m*\u001b[39m\u001b[43mGeometricPotencial_3D_Real\u001b[49m\u001b[43m(\u001b[49m\u001b[43mxa\u001b[49m\u001b[43m,\u001b[49m\u001b[43m \u001b[49m\u001b[43mya\u001b[49m\u001b[43m,\u001b[49m\u001b[43m \u001b[49m\u001b[43mza\u001b[49m\u001b[43m,\u001b[49m\u001b[43m \u001b[49m\u001b[43mp\u001b[49m\u001b[43m,\u001b[49m\u001b[43m \u001b[49m\u001b[43mwa\u001b[49m\u001b[43m,\u001b[49m\u001b[43mc\u001b[49m\u001b[43m)\u001b[49m \u001b[38;5;241m+\u001b[39m \u001b[38;5;241m1\u001b[39m\u001b[38;5;241m*\u001b[39mGeometricPotencial_3D_Virtual(xa, ya, za, p, wa,c)\n\u001b[1;32m     69\u001b[0m     \u001b[38;5;28;01mreturn\u001b[39;00m sum_t\n",
      "Cell \u001b[0;32mIn[4], line 48\u001b[0m, in \u001b[0;36mGeometricPotencial_3D_Real\u001b[0;34m(xa, ya, za, p, wa, c)\u001b[0m\n\u001b[1;32m     46\u001b[0m matrix_real \u001b[38;5;241m=\u001b[39m np\u001b[38;5;241m.\u001b[39meinsum(\u001b[38;5;124m'\u001b[39m\u001b[38;5;124miij->ij\u001b[39m\u001b[38;5;124m'\u001b[39m, matrix_complete)\n\u001b[1;32m     47\u001b[0m \u001b[38;5;28;01mfor\u001b[39;00m i \u001b[38;5;129;01min\u001b[39;00m matrix_real:\n\u001b[0;32m---> 48\u001b[0m     sum_r \u001b[38;5;241m=\u001b[39m sum_r \u001b[38;5;241m+\u001b[39m \u001b[43mGeometricPotencial_3D_00_reducido\u001b[49m\u001b[43m(\u001b[49m\u001b[43mxa\u001b[49m\u001b[43m,\u001b[49m\u001b[43mi\u001b[49m\u001b[43m[\u001b[49m\u001b[38;5;241;43m0\u001b[39;49m\u001b[43m]\u001b[49m\u001b[43m,\u001b[49m\u001b[43mi\u001b[49m\u001b[43m[\u001b[49m\u001b[38;5;241;43m1\u001b[39;49m\u001b[43m]\u001b[49m\u001b[43m,\u001b[49m\u001b[43mya\u001b[49m\u001b[43m,\u001b[49m\u001b[43mi\u001b[49m\u001b[43m[\u001b[49m\u001b[38;5;241;43m2\u001b[39;49m\u001b[43m]\u001b[49m\u001b[43m,\u001b[49m\u001b[43mi\u001b[49m\u001b[43m[\u001b[49m\u001b[38;5;241;43m3\u001b[39;49m\u001b[43m]\u001b[49m\u001b[43m,\u001b[49m\u001b[43mza\u001b[49m\u001b[43m,\u001b[49m\u001b[43mwa\u001b[49m\u001b[43m,\u001b[49m\u001b[43mc\u001b[49m\u001b[43m)\u001b[49m\n\u001b[1;32m     49\u001b[0m \u001b[38;5;28;01mreturn\u001b[39;00m sum_r\n",
      "Cell \u001b[0;32mIn[4], line 33\u001b[0m, in \u001b[0;36mGeometricPotencial_3D_00_reducido\u001b[0;34m(xa, xi_a, xi_d, ya, eta_a, eta_d, za, wa, c)\u001b[0m\n\u001b[1;32m     30\u001b[0m phase \u001b[38;5;241m=\u001b[39m np\u001b[38;5;241m.\u001b[39mexp(np\u001b[38;5;241m.\u001b[39mcomplex128(\u001b[38;5;241m-\u001b[39m\u001b[38;5;241m1\u001b[39mj\u001b[38;5;241m*\u001b[39mk\u001b[38;5;241m*\u001b[39m(phase_plus)\u001b[38;5;241m*\u001b[39mc)) \u001b[38;5;241m*\u001b[39m np\u001b[38;5;241m.\u001b[39mexp(np\u001b[38;5;241m.\u001b[39mcomplex128(\u001b[38;5;241m1\u001b[39mj\u001b[38;5;241m*\u001b[39mk\u001b[38;5;241m*\u001b[39m(phase_minus)\u001b[38;5;241m*\u001b[39mc))\n\u001b[1;32m     32\u001b[0m \u001b[38;5;66;03m#distancia s\u001b[39;00m\n\u001b[0;32m---> 33\u001b[0m s_1 \u001b[38;5;241m=\u001b[39m \u001b[43mnp\u001b[49m\u001b[38;5;241;43m.\u001b[39;49m\u001b[43msqrt\u001b[49m\u001b[43m(\u001b[49m\u001b[43m(\u001b[49m\u001b[43m(\u001b[49m\u001b[43mxa\u001b[49m\u001b[38;5;241;43m-\u001b[39;49m\u001b[43mxi_p\u001b[49m\u001b[43m)\u001b[49m\u001b[43m \u001b[49m\u001b[38;5;241;43m*\u001b[39;49m\u001b[38;5;241;43m*\u001b[39;49m\u001b[43m \u001b[49m\u001b[38;5;241;43m2\u001b[39;49m\u001b[43m)\u001b[49m\u001b[43m \u001b[49m\u001b[38;5;241;43m+\u001b[39;49m\u001b[43m \u001b[49m\u001b[43m(\u001b[49m\u001b[43m(\u001b[49m\u001b[43mya\u001b[49m\u001b[38;5;241;43m-\u001b[39;49m\u001b[43meta_p\u001b[49m\u001b[43m)\u001b[49m\u001b[43m \u001b[49m\u001b[38;5;241;43m*\u001b[39;49m\u001b[38;5;241;43m*\u001b[39;49m\u001b[38;5;241;43m2\u001b[39;49m\u001b[43m)\u001b[49m\u001b[43m \u001b[49m\u001b[38;5;241;43m+\u001b[39;49m\u001b[43m \u001b[49m\u001b[43m(\u001b[49m\u001b[43m(\u001b[49m\u001b[43mza\u001b[49m\u001b[43m)\u001b[49m\u001b[43m \u001b[49m\u001b[38;5;241;43m*\u001b[39;49m\u001b[38;5;241;43m*\u001b[39;49m\u001b[43m \u001b[49m\u001b[38;5;241;43m2\u001b[39;49m\u001b[43m)\u001b[49m\u001b[43m)\u001b[49m\n\u001b[1;32m     34\u001b[0m s_2 \u001b[38;5;241m=\u001b[39m np\u001b[38;5;241m.\u001b[39msqrt(((xa\u001b[38;5;241m-\u001b[39mxi_n) \u001b[38;5;241m*\u001b[39m\u001b[38;5;241m*\u001b[39m\u001b[38;5;241m2\u001b[39m) \u001b[38;5;241m+\u001b[39m ((ya\u001b[38;5;241m-\u001b[39meta_n) \u001b[38;5;241m*\u001b[39m\u001b[38;5;241m*\u001b[39m \u001b[38;5;241m2\u001b[39m) \u001b[38;5;241m+\u001b[39m ((za) \u001b[38;5;241m*\u001b[39m\u001b[38;5;241m*\u001b[39m \u001b[38;5;241m2\u001b[39m))\n\u001b[1;32m     36\u001b[0m \u001b[38;5;66;03m#kernel\u001b[39;00m\n\u001b[1;32m     37\u001b[0m \u001b[38;5;66;03m#kernel = 2*((k**2)*pic) * ((za+0.5*s_1)/(s_1 ** 2)) * ((za+0.5*s_2)/(s_2 ** 2)) * np.cos(k*s_1-k*s_2+phase*k*0)\u001b[39;00m\n",
      "\u001b[0;31mKeyboardInterrupt\u001b[0m: "
     ]
    }
   ],
   "source": [
    "%%time\n",
    "square = np.linspace(-100*w, 100*w, 1000)\n",
    "dz = 0.0001\n",
    "#dz = 7000*w\n",
    "phase = 1\n",
    "xx,yy = np.meshgrid(square, square)\n",
    "zz = np.array(list(GeometricPotencial_3D_reducido(xx,yy,dz,p,w,1)), dtype=float)\n",
    "#zz = zz[:-1, :-1]\n",
    "z_mi, z_ma = zz.min()/1, zz.max()/1\n",
    "\n",
    "fig, (ax) = plt.subplots(dpi=150, subplot_kw={'aspect': 'equal'})\n",
    "c = ax.pcolormesh(xx, yy, zz, cmap='rainbow',  vmin = z_mi, vmax = z_ma)\n",
    "fig.colorbar(c, ax = ax)\n",
    "plt.savefig(\"Geometric Potencial_coherence\")\n",
    "plt.show()\n",
    "dz"
   ]
  },
  {
   "cell_type": "markdown",
   "id": "5c2f27b3-076d-42db-8369-49375cf6c9ac",
   "metadata": {},
   "source": [
    "Al estar a distancias cortas, la periodicidad de los maximos repetitivos del patrón es similar a la periodicidad de los "
   ]
  },
  {
   "cell_type": "code",
   "execution_count": 11,
   "id": "b9ad07f6-d4ab-4b3e-9463-f84c1495ef44",
   "metadata": {
    "tags": []
   },
   "outputs": [
    {
     "ename": "KeyboardInterrupt",
     "evalue": "",
     "output_type": "error",
     "traceback": [
      "\u001b[0;31m---------------------------------------------------------------------------\u001b[0m",
      "\u001b[0;31mKeyboardInterrupt\u001b[0m                         Traceback (most recent call last)",
      "File \u001b[0;32m<timed exec>:6\u001b[0m\n",
      "Cell \u001b[0;32mIn[4], line 68\u001b[0m, in \u001b[0;36mGeometricPotencial_3D_reducido\u001b[0;34m(xa, ya, za, p, wa, c)\u001b[0m\n\u001b[1;32m     67\u001b[0m \u001b[38;5;28;01mdef\u001b[39;00m \u001b[38;5;21mGeometricPotencial_3D_reducido\u001b[39m(xa, ya, za, p, wa,c):\n\u001b[0;32m---> 68\u001b[0m     sum_t \u001b[38;5;241m=\u001b[39m \u001b[38;5;241m1\u001b[39m\u001b[38;5;241m*\u001b[39m\u001b[43mGeometricPotencial_3D_Real\u001b[49m\u001b[43m(\u001b[49m\u001b[43mxa\u001b[49m\u001b[43m,\u001b[49m\u001b[43m \u001b[49m\u001b[43mya\u001b[49m\u001b[43m,\u001b[49m\u001b[43m \u001b[49m\u001b[43mza\u001b[49m\u001b[43m,\u001b[49m\u001b[43m \u001b[49m\u001b[43mp\u001b[49m\u001b[43m,\u001b[49m\u001b[43m \u001b[49m\u001b[43mwa\u001b[49m\u001b[43m,\u001b[49m\u001b[43mc\u001b[49m\u001b[43m)\u001b[49m \u001b[38;5;241m+\u001b[39m \u001b[38;5;241m1\u001b[39m\u001b[38;5;241m*\u001b[39mGeometricPotencial_3D_Virtual(xa, ya, za, p, wa,c)\n\u001b[1;32m     69\u001b[0m     \u001b[38;5;28;01mreturn\u001b[39;00m sum_t\n",
      "Cell \u001b[0;32mIn[4], line 48\u001b[0m, in \u001b[0;36mGeometricPotencial_3D_Real\u001b[0;34m(xa, ya, za, p, wa, c)\u001b[0m\n\u001b[1;32m     46\u001b[0m matrix_real \u001b[38;5;241m=\u001b[39m np\u001b[38;5;241m.\u001b[39meinsum(\u001b[38;5;124m'\u001b[39m\u001b[38;5;124miij->ij\u001b[39m\u001b[38;5;124m'\u001b[39m, matrix_complete)\n\u001b[1;32m     47\u001b[0m \u001b[38;5;28;01mfor\u001b[39;00m i \u001b[38;5;129;01min\u001b[39;00m matrix_real:\n\u001b[0;32m---> 48\u001b[0m     sum_r \u001b[38;5;241m=\u001b[39m sum_r \u001b[38;5;241m+\u001b[39m GeometricPotencial_3D_00_reducido(xa,i[\u001b[38;5;241m0\u001b[39m],i[\u001b[38;5;241m1\u001b[39m],ya,i[\u001b[38;5;241m2\u001b[39m],i[\u001b[38;5;241m3\u001b[39m],za,wa,c)\n\u001b[1;32m     49\u001b[0m \u001b[38;5;28;01mreturn\u001b[39;00m sum_r\n",
      "\u001b[0;31mKeyboardInterrupt\u001b[0m: "
     ]
    }
   ],
   "source": [
    "%%time\n",
    "square = np.linspace(-100*w, 100*w, 1000)\n",
    "dz = 0.0001\n",
    "#dz = 7000*w\n",
    "phase = 1\n",
    "xx,yy = np.meshgrid(square, square)\n",
    "zz = np.array(list(GeometricPotencial_3D_reducido(xx,yy,dz,p,w,0)), dtype=float)\n",
    "#zz = zz[:-1, :-1]\n",
    "#z_min, z_max = zz.min()/1, zz.max()/1\n",
    "\n",
    "fig, (ax) = plt.subplots(dpi=150, subplot_kw={'aspect': 'equal'})\n",
    "c = ax.pcolormesh(xx, yy, zz, cmap='rainbow',  vmin = z_mi, vmax = z_ma)\n",
    "fig.colorbar(c, ax = ax)\n",
    "plt.savefig(\"Geometric Potencial_coherence\")\n",
    "plt.show()\n",
    "dz"
   ]
  },
  {
   "cell_type": "code",
   "execution_count": 12,
   "id": "b8405d40",
   "metadata": {},
   "outputs": [
    {
     "ename": "NameError",
     "evalue": "name 'FuncAnimation' is not defined",
     "output_type": "error",
     "traceback": [
      "\u001b[0;31m---------------------------------------------------------------------------\u001b[0m",
      "\u001b[0;31mNameError\u001b[0m                                 Traceback (most recent call last)",
      "Cell \u001b[0;32mIn[12], line 19\u001b[0m\n\u001b[1;32m     16\u001b[0m     \u001b[38;5;28;01mreturn\u001b[39;00m [pcm]\n\u001b[1;32m     18\u001b[0m \u001b[38;5;66;03m# Crear la animación\u001b[39;00m\n\u001b[0;32m---> 19\u001b[0m ani \u001b[38;5;241m=\u001b[39m \u001b[43mFuncAnimation\u001b[49m(fig, update, frames\u001b[38;5;241m=\u001b[39m\u001b[38;5;28mrange\u001b[39m(\u001b[38;5;241m50\u001b[39m), blit\u001b[38;5;241m=\u001b[39m\u001b[38;5;28;01mTrue\u001b[39;00m)\n\u001b[1;32m     21\u001b[0m \u001b[38;5;66;03m# Mostrar la animación\u001b[39;00m\n\u001b[1;32m     22\u001b[0m plt\u001b[38;5;241m.\u001b[39mshow()\n",
      "\u001b[0;31mNameError\u001b[0m: name 'FuncAnimation' is not defined"
     ]
    },
    {
     "name": "stdout",
     "output_type": "stream",
     "text": [
      "Error in callback <function flush_figures at 0x7f5d96813380> (for post_execute):\n"
     ]
    },
    {
     "name": "stderr",
     "output_type": "stream",
     "text": [
      "\n",
      "KeyboardInterrupt\n",
      "\n"
     ]
    }
   ],
   "source": [
    "# Generar datos para la animación\n",
    "x = np.linspace(-10, 10, 100)\n",
    "y = np.linspace(-10, 10, 100)\n",
    "X, Y = np.meshgrid(x, y)\n",
    "Z = np.sin(np.sqrt(X**2 + Y**2))\n",
    "\n",
    "# Crear la figura y el objeto de gráfico de malla de colores\n",
    "fig, ax = plt.subplots()\n",
    "pcm = ax.pcolormesh(X, Y, Z, cmap='viridis')\n",
    "\n",
    "# Función para actualizar el gráfico en cada fotograma de la animación\n",
    "def update(frame):\n",
    "    # Actualizar los datos de la matriz z\n",
    "    Z_new = np.sin(np.sqrt(X**2 + Y**2) + frame * 0.1)\n",
    "    pcm.set_array(Z_new.ravel())\n",
    "    return [pcm]\n",
    "\n",
    "# Crear la animación\n",
    "ani = FuncAnimation(fig, update, frames=range(50), blit=True)\n",
    "\n",
    "# Mostrar la animación\n",
    "plt.show()"
   ]
  }
 ],
 "metadata": {
  "kernelspec": {
   "display_name": "Python 3 (ipykernel)",
   "language": "python",
   "name": "python3"
  },
  "language_info": {
   "codemirror_mode": {
    "name": "ipython",
    "version": 3
   },
   "file_extension": ".py",
   "mimetype": "text/x-python",
   "name": "python",
   "nbconvert_exporter": "python",
   "pygments_lexer": "ipython3",
   "version": "3.11.2"
  }
 },
 "nbformat": 4,
 "nbformat_minor": 5
}
