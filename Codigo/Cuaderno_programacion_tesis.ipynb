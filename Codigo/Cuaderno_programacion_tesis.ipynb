{
 "cells": [
  {
   "cell_type": "markdown",
   "id": "0d145c24-b3fe-4229-8a0e-e00f01e52511",
   "metadata": {
    "tags": []
   },
   "source": [
    "<div id=\"header\" align=\"center\">\n",
    "    <h1>Cuaderno de progración para tesis</h1>\n",
    "</div>"
   ]
  },
  {
   "cell_type": "markdown",
   "id": "49aa6a0b-06f1-40bf-96d7-5c1b3d393d10",
   "metadata": {
    "tags": []
   },
   "source": [
    "<div id=\"header\" align=\"center\">\n",
    "  <img src=\"https://media.giphy.com/media/M9gbBd9nbDrOTu1Mqx/giphy.gif\" width=\"100\"/>\n",
    "  \n",
    "  <a href=\"https://www.linkedin.com/in/rcasalins/\"><img src=\"https://img.shields.io/badge/Linkedin-0e76a8?style=for-the-badge&logo=Linkedin&logoColor=white\" width=\"100\"/></a>\n",
    "</div>"
   ]
  },
  {
   "cell_type": "code",
   "execution_count": 1,
   "id": "d0969920-2ec1-489f-83b6-0ffb8d07fdf6",
   "metadata": {},
   "outputs": [],
   "source": [
    "import numpy as np"
   ]
  },
  {
   "cell_type": "markdown",
   "id": "03bdf2d3-d715-4258-bc6e-338e0b8fffd0",
   "metadata": {
    "tags": []
   },
   "source": [
    "<div id=\"header\" align=\"center\">\n",
    "    <h2>Analisis articulo Matrix algorithm for 3D nonparaxial optical field\n",
    "modeling under arbitrary spatial coherence</h2>\n",
    "</div>"
   ]
  },
  {
   "cell_type": "markdown",
   "id": "6dc8f17e-61b4-4829-a6ef-5cd7ace30977",
   "metadata": {},
   "source": [
    "<div id=\"text\" align=\"center\">\n",
    "    <p>Primero que todo hay que analizar el montaje basico en el que se basa la teoría:</p>\n",
    "    \n",
    "  <img src=\"IMG/cross_spectral_density_propagation.png\" width=\"500\"/>\n",
    "</div>"
   ]
  },
  {
   "cell_type": "markdown",
   "id": "03ae4075-a546-48d5-9890-3f0635e9c743",
   "metadata": {},
   "source": [
    "- $ \\xi_{1} $ y $ \\xi_{2} $ son las posiciones en el plano de entrada (F).\n",
    "- $ r_{1} $ y $ r_{2} $ son las posiciones en el plano de salida (G).\n",
    "- $ s_{1} $ y $ s_{2} $ son las distancias entre $ \\xi_{1} $-$ r_{1} $ y $ \\xi_{2} $-$ r_{2} $.\n",
    "- $ \\chi_{1} $ y $ \\chi_{2} $ son los angulos formados entre s_{1} $ y $ s_{2} y un vector normal al plano de entrada (F)."
   ]
  },
  {
   "cell_type": "markdown",
   "id": "4b21d14b-227c-416f-bead-38fb1949c208",
   "metadata": {},
   "source": [
    "Se toma el supuesto de que la onda incidente es plana y paralela al plano de entrada con función de transmisión $ t_{F} = |t_{F}|exp[i \\phi_{F}(Q)] $ en el plano F. Si no hay dicha función de transmisión, se asume como 1. De tal forma que la densidad espectral cruzada en el plano de salida se denomina $ W_{G}(P_{1},P_{2}) $ y se obtiene la densidad espectral cruzada del plano de entrada $ W_{F}(Q_{1},Q_{2}) $ mediante la siguiente integral no paraxial:"
   ]
  },
  {
   "cell_type": "markdown",
   "id": "d27bf993-a39f-4cb1-a89f-83e64546beed",
   "metadata": {},
   "source": [
    "$$ W_{G}(P_{1},P_{2}) = \\int_F \\int_F W_{F}(Q_{1},Q_{2}) \\boxed{  t_{F}(Q_{1}) t_{F}^{*}(Q_{2}) } \\frac{ exp(ik(s_{1} - s_{2})) }{s_{1}s_{2}}  \\boxed{ K(\\chi_{1})K(\\chi_{2}) } \\,d\\sigma_{1}\\,d\\sigma_{2} $$"
   ]
  },
  {
   "cell_type": "markdown",
   "id": "ace7dd9c-3463-4ceb-8d87-5ef7688836bf",
   "metadata": {},
   "source": [
    "Como se puede observar la primera parte corresponde a la densidad espectral cruzada del plano de entrada en los puntos $Q_{1}$ y $Q_{2}$, seguida de la función de transmisión escrita en su forma conjugada, el factor de propagación y el factor de inclinación $K$. Además se debe tener en cuenta que el numero de onda $k = 2\\pi/\\lambda$ y que el factor de inclinación esta descrito como:"
   ]
  },
  {
   "cell_type": "markdown",
   "id": "20237858-2dd5-4fc7-84a8-03394789a6c7",
   "metadata": {},
   "source": [
    "$$ K(\\chi_{j}) = -i \\frac{k}{4\\pi} [1+cos(\\chi_{j})] $$"
   ]
  },
  {
   "cell_type": "markdown",
   "id": "82ba4a09-f11d-4d10-87f3-9f07dc713c86",
   "metadata": {},
   "source": [
    "Con j={1,2} y, en consecuencia a la Fig. 1., $cos(\\chi_{j}) = z/s_{j}$, por tanto $K(\\chi_{j})$:"
   ]
  },
  {
   "cell_type": "markdown",
   "id": "eb12c107-2cf0-4164-804c-08adbc55b5b3",
   "metadata": {},
   "source": [
    "$$ K(\\chi_{j}) = -i \\frac{k}{4\\pi} [1+\\frac{z}{s_{j}}] $$"
   ]
  },
  {
   "cell_type": "markdown",
   "id": "3f7dbc1c-7c52-4f37-b5ae-35cdb87be990",
   "metadata": {},
   "source": [
    "Y $K(\\chi_{1})K(\\chi_{2})$:"
   ]
  },
  {
   "cell_type": "markdown",
   "id": "63fc6c9b-6b52-4271-b2bc-01637e0710be",
   "metadata": {},
   "source": [
    "$$ K(\\chi_{1}) K(\\chi_{2}) = \\left( \\frac{k}{4\\pi} \\right)^{2} \\boxed{ [1 + \\frac{z}{s_{1}}] [1 + \\frac{z}{s_{2}}] }$$"
   ]
  },
  {
   "cell_type": "markdown",
   "id": "3f731e78-8aee-4f38-907b-a443cfc1c2a4",
   "metadata": {},
   "source": [
    "$$ \\Rightarrow K(\\chi_{1}) K(\\chi_{2}) = \\left( \\frac{k}{4\\pi} \\right)^{2} \\boxed{ [\\frac{s_{1}}{s_{1}} + \\frac{z}{s_{1}}] [\\frac{s_{2}}{s_{2}} + \\frac{z}{s_{2}}] }$$"
   ]
  },
  {
   "cell_type": "markdown",
   "id": "9270a24a-88a5-4502-b9e3-030f0d976b99",
   "metadata": {},
   "source": [
    "$$ \\Rightarrow K(\\chi_{1}) K(\\chi_{2}) = \\left( \\frac{k}{4\\pi} \\right)^{2} \\boxed{ [\\frac{z+s_{1}}{s_{1}}] [\\frac{z+s_{2}}{s_{2}}] }$$"
   ]
  },
  {
   "cell_type": "markdown",
   "id": "7bd19167-10ca-41b0-85b3-d49c61c10c05",
   "metadata": {},
   "source": [
    "Por tanto la integral no paraxial que relaciona el plano de entrada con el plano de salida quedaría de la siguiente forma:"
   ]
  },
  {
   "cell_type": "markdown",
   "id": "465a34d8-ae56-48ca-97db-46cb86650e27",
   "metadata": {},
   "source": [
    "$$ W_{G}(P_{1},P_{2}) = \\left( \\frac{k}{4\\pi} \\right)^{2} \\int_F \\int_F W_{F}(Q_{1},Q_{2}) \\boxed{  t_{F}(Q_{1}) t_{F}^{*}(Q_{2}) } \\frac{ exp(ik(s_{1} - s_{2})) }{s_{1}s_{2}}  \\boxed{ (\\frac{z+s_{1}}{s_{1}}) (\\frac{z+s_{2}}{s_{2}}) } \\,d\\sigma_{1}\\,d\\sigma_{2} $$"
   ]
  },
  {
   "cell_type": "markdown",
   "id": "45d27019-3410-499a-ac30-ee979ea77de3",
   "metadata": {},
   "source": [
    "$$ \\Rightarrow W_{G}(P_{1},P_{2}) = \\left( \\frac{k}{4\\pi} \\right)^{2} \\int_F \\int_F W_{F}(Q_{1},Q_{2}) \\boxed{  t_{F}(Q_{1}) t_{F}^{*}(Q_{2}) }  exp(ik(s_{1} - s_{2}))  \\boxed{ (\\frac{z+s_{1}}{s_{1}^{2}}) (\\frac{z+s_{2}}{s_{2}^{2}}) } \\,d\\sigma_{1}\\,d\\sigma_{2} $$"
   ]
  },
  {
   "cell_type": "markdown",
   "id": "e6484b0c-3938-485f-8d6c-037d9bc744f9",
   "metadata": {},
   "source": [
    "Debido a que los dos últimos terminos dan cuenta de la propagación, los podemos unir para dar mas entendimiento a la ecuación, así el termino resultante será el kernel de propagación:"
   ]
  },
  {
   "cell_type": "markdown",
   "id": "21246c45-f3b5-45cc-8af9-a2c0aedd5bb1",
   "metadata": {},
   "source": [
    "$$ \\Phi_{FG}(s_{1},s_{2},k) = \\left( \\frac{k}{4\\pi} \\right)^{2}  \\left( \\frac{z+s_{1}}{s_{1}^{2}} \\right) \\left( \\frac{z+s_{2}}{s_{2}^{2}} \\right)  exp[ik(s_{1} - s_{2})]$$"
   ]
  },
  {
   "cell_type": "markdown",
   "id": "5467b13d-be12-4527-851c-ea41f3570320",
   "metadata": {},
   "source": [
    "$$ \\Rightarrow W_{G}(P_{1},P_{2}) = \\int_F \\int_F W_{F}(Q_{1},Q_{2}) \\boxed{  t_{F}(Q_{1}) t_{F}^{*}(Q_{2}) } \\Phi_{FG}(s_{1},s_{2},k)    \\,d\\sigma_{1}\\,d\\sigma_{2} $$"
   ]
  },
  {
   "cell_type": "markdown",
   "id": "f459396b-9ecc-4cf7-a2e2-5bee26f8b22b",
   "metadata": {},
   "source": [
    "Además $s_{j}$ es una cantidad escalar que se puede hallar mediante la norma de $S_{j}$ (puesto en mayuscula para denotar el vector con la misma magnititud de $s_{j}$ que va desde $\\xi_{j}$ hasta $r_{j}$) entonces podemos decir que $s_{j}$ es igual a:"
   ]
  },
  {
   "cell_type": "markdown",
   "id": "b0b94f26-6793-4e19-bc74-25309eca4083",
   "metadata": {},
   "source": [
    "$$s_{j} = |S_{j}| = |Z+r_{j}-\\xi_{j}|$$"
   ]
  },
  {
   "cell_type": "markdown",
   "id": "31ccaa93-2096-4749-ab0b-1fe2ee736d21",
   "metadata": {},
   "source": [
    "Donde $Z$ es un vectos normal al plano de entrada con magnitud $z$ que va desde el plano de entrada hasta el plano de salida."
   ]
  },
  {
   "cell_type": "markdown",
   "id": "c70d185e-2423-4478-a258-450889e2fb16",
   "metadata": {},
   "source": [
    "Sabiendo esto el kernel de propagación se transformaría en:"
   ]
  },
  {
   "cell_type": "markdown",
   "id": "b71f94b7-c819-4042-b260-b83b987ce4b3",
   "metadata": {},
   "source": [
    "$$ \\Phi_{FG}(\\xi_{1},\\xi_{2};r_{1},r_{2};k) = \\left( \\frac{k}{4\\pi} \\right)^{2}  \\left( \\frac{z+|Z+r_{1}-\\xi_{1}|}{|Z+r_{1}-\\xi_{1}|^{2}} \\right) \\left( \\frac{z+|Z+r_{2}-\\xi_{2}|}{|Z+r_{2}-\\xi_{2}|^{2}} \\right)  exp[ik(|Z+r_{1}-\\xi_{1}| - |Z+r_{2}-\\xi_{2}|)]$$\n"
   ]
  },
  {
   "cell_type": "markdown",
   "id": "d05f6b76-6a87-4a83-b05e-5d7e95461292",
   "metadata": {},
   "source": [
    "$$ \\Rightarrow W_{G}(r_{1},r_{2}) = \\int_F \\int_F W_{F}(\\xi_{1},\\xi_{2}) \\boxed{  t_{F}(\\xi_{1}) t_{F}^{*}(\\xi_{2}) } \\Phi_{FG}(\\xi_{1},\\xi_{2};r_{1},r_{2};k)    \\,d^{2}\\xi_{1}\\,d^{2}\\xi_{2} $$"
   ]
  },
  {
   "cell_type": "markdown",
   "id": "701a71bb-5f7f-4176-bb96-b186ce90ffec",
   "metadata": {},
   "source": [
    "<div id=\"CR\" align=\"center\">\n",
    "    <h3>Coordenadas reducidas</h3>\n",
    "</div>"
   ]
  },
  {
   "cell_type": "markdown",
   "id": "c8458253-0c74-4da5-bf2c-089c82c6d30d",
   "metadata": {},
   "source": [
    "Para poder optimizar el almoritmo en base a parejas de puntos se utilizan las coordenadas reducidas, que están definidas de la siguiente forma:"
   ]
  },
  {
   "cell_type": "markdown",
   "id": "7836fecf-0286-408b-8cb2-bc721a504aa0",
   "metadata": {},
   "source": [
    "$$ \\xi_{A} = (\\xi_{1} + \\xi_{2}) / 2$$"
   ]
  },
  {
   "cell_type": "markdown",
   "id": "cfda27e3-276c-4a3c-aa8d-66352dbb5c1a",
   "metadata": {},
   "source": [
    "$$ \\xi_{D} = \\xi_{1} - \\xi_{2}$$"
   ]
  },
  {
   "cell_type": "markdown",
   "id": "7bd6c211-46fb-44ee-90f6-67e069c32268",
   "metadata": {},
   "source": [
    "$$ r_{A} = (r_{1} + r_{2}) / 2$$"
   ]
  },
  {
   "cell_type": "markdown",
   "id": "e4a4f551-6b76-47f2-8ac7-d07e4b0a801c",
   "metadata": {},
   "source": [
    "$$ r_{D} = r_{1} - r_{2}$$"
   ]
  },
  {
   "cell_type": "markdown",
   "id": "d78493ff-d36d-4f48-aa25-19ddf6be3aed",
   "metadata": {},
   "source": [
    "De tal forma que:"
   ]
  },
  {
   "cell_type": "markdown",
   "id": "b09be3fa-3608-48f8-a9c7-18e2861791d5",
   "metadata": {},
   "source": [
    "$$ \\xi_{+} = \\xi_{A} + \\xi_{D}/2 = \\xi_{1} $$"
   ]
  },
  {
   "cell_type": "markdown",
   "id": "2d26ee3b-3543-4310-9b5b-9527fe5264fd",
   "metadata": {},
   "source": [
    "$$ \\xi_{-} = \\xi_{A} - \\xi_{D}/2 = \\xi_{2} $$"
   ]
  },
  {
   "cell_type": "markdown",
   "id": "c591b116-eb5d-40e2-ba95-8a788b60bf21",
   "metadata": {},
   "source": [
    "$$ r_{+} = r_{A} + r_{D}/2 =r_{1} $$"
   ]
  },
  {
   "cell_type": "markdown",
   "id": "a1fa6a71-8bb0-4083-abea-9c2aa4f9048c",
   "metadata": {},
   "source": [
    "$$ r_{-} = r_{A} - r_{D}/2 =r_{2} $$"
   ]
  },
  {
   "cell_type": "markdown",
   "id": "e3f45575-3efb-471c-8ce2-a7513d2e0cba",
   "metadata": {},
   "source": [
    "Al realizar el cambio de coordenadas, es necesario calcular el jacobiano para redefinir la integral, por suerte que este es uno y por tanto $ \\,d^{2}\\xi_{1}\\,d^{2}\\xi_{2} = \\,d^{2}\\xi_{A}\\,d^{2}\\xi_{D} $. Para convertir una pareja de puntos de coordenadas cartesianas a reducidas usamos la siguiente función:"
   ]
  },
  {
   "cell_type": "code",
   "execution_count": 2,
   "id": "3d939ac3-04f4-4d43-a2a6-dbc6420425e5",
   "metadata": {},
   "outputs": [],
   "source": [
    "# función para calcular xi_A, a esta función ingresan dos coordenadas x,y\n",
    "def xi_a(xi_1,xi_2):\n",
    "    xi_1 = np.array(xi_1)\n",
    "    xi_2 = np.array(xi_2)\n",
    "    xia = (xi_1 + xi_2) / 2\n",
    "    return xia\n",
    "\n",
    "# función para calcular xi_D, a esta función ingresan dos coordenadas x,y\n",
    "def xi_d(xi_1,xi_2):\n",
    "    xi_1 = np.array(xi_1)\n",
    "    xi_2 = np.array(xi_2)\n",
    "    xid = (xi_1 - xi_2)\n",
    "    return xid"
   ]
  },
  {
   "cell_type": "code",
   "execution_count": 3,
   "id": "a000d9fc-96bd-4d7c-808f-d807968159c4",
   "metadata": {},
   "outputs": [
    {
     "data": {
      "text/plain": [
       "array([-2, -2])"
      ]
     },
     "execution_count": 3,
     "metadata": {},
     "output_type": "execute_result"
    }
   ],
   "source": [
    "xi_d([1,2],[3,4])"
   ]
  }
 ],
 "metadata": {
  "kernelspec": {
   "display_name": "Python 3 (ipykernel)",
   "language": "python",
   "name": "python3"
  },
  "language_info": {
   "codemirror_mode": {
    "name": "ipython",
    "version": 3
   },
   "file_extension": ".py",
   "mimetype": "text/x-python",
   "name": "python",
   "nbconvert_exporter": "python",
   "pygments_lexer": "ipython3",
   "version": "3.10.9"
  },
  "toc-autonumbering": true,
  "toc-showcode": false,
  "toc-showtags": false
 },
 "nbformat": 4,
 "nbformat_minor": 5
}
