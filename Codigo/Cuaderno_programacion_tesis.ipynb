{
 "cells": [
  {
   "cell_type": "markdown",
   "id": "2fa1ed94-c972-4ea6-888f-0e4511864697",
   "metadata": {
    "tags": []
   },
   "source": [
    "<div id=\"header\" align=\"center\">\n",
    "    <h1>Cuaderno de progración para tesis</h1>\n",
    "</div>"
   ]
  },
  {
   "cell_type": "markdown",
   "id": "49aa6a0b-06f1-40bf-96d7-5c1b3d393d10",
   "metadata": {
    "tags": []
   },
   "source": [
    "<div id=\"header\" align=\"center\">\n",
    "  <img src=\"https://media.giphy.com/media/M9gbBd9nbDrOTu1Mqx/giphy.gif\" width=\"100\"/>\n",
    "  \n",
    "  <a href=\"https://www.linkedin.com/in/rcasalins/\"><img src=\"https://img.shields.io/badge/Linkedin-0e76a8?style=for-the-badge&logo=Linkedin&logoColor=white\" width=\"100\"/></a>\n",
    "</div>"
   ]
  },
  {
   "cell_type": "markdown",
   "id": "03bdf2d3-d715-4258-bc6e-338e0b8fffd0",
   "metadata": {},
   "source": [
    "<div id=\"header\" align=\"center\">\n",
    "    <h2>Analisis articulo Matrix algorithm for 3D nonparaxial optical field\n",
    "modeling under arbitrary spatial coherence</h2>\n",
    "</div>"
   ]
  },
  {
   "cell_type": "markdown",
   "id": "6dc8f17e-61b4-4829-a6ef-5cd7ace30977",
   "metadata": {},
   "source": [
    "<div id=\"header\" align=\"justify\">\n",
    "    <p>Primero que todo hay que analizar el montaje basico en el que se basa la teoría:</p>\n",
    "    \n",
    "</div>"
   ]
  }
 ],
 "metadata": {
  "kernelspec": {
   "display_name": "Python 3 (ipykernel)",
   "language": "python",
   "name": "python3"
  },
  "language_info": {
   "codemirror_mode": {
    "name": "ipython",
    "version": 3
   },
   "file_extension": ".py",
   "mimetype": "text/x-python",
   "name": "python",
   "nbconvert_exporter": "python",
   "pygments_lexer": "ipython3",
   "version": "3.10.9"
  }
 },
 "nbformat": 4,
 "nbformat_minor": 5
}
