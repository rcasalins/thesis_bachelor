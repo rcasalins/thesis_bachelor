{
 "cells": [
  {
   "cell_type": "markdown",
   "id": "5ee39573",
   "metadata": {},
   "source": [
    "# Calculo del enfoque en el regimen no paraxial"
   ]
  },
  {
   "cell_type": "markdown",
   "id": "86d2814b",
   "metadata": {},
   "source": [
    "La expresión de la fase en el regimen no paraxial es:"
   ]
  },
  {
   "cell_type": "markdown",
   "id": "7bad4947",
   "metadata": {},
   "source": [
    "$$ - R_{1} + R_{1} \\sqrt{1- \\frac{x^{2} + y^{2}}{R_{1}^{2}}} + R_{2} - R_{2} \\sqrt{1- \\frac{x^{2} + y^{2}}{R_{2}^{2}}} $$"
   ]
  },
  {
   "cell_type": "markdown",
   "id": "c062b206",
   "metadata": {},
   "source": [
    "En el regimen paraxial:"
   ]
  },
  {
   "cell_type": "markdown",
   "id": "8356588a",
   "metadata": {},
   "source": [
    "$$ - \\frac{x^{2} + y^{2} }{2} \\left(\\frac{1}{R_{1}} - \\frac{1}{R_{2}} \\right) $$"
   ]
  },
  {
   "cell_type": "markdown",
   "id": "956b1aa0",
   "metadata": {},
   "source": [
    "De esta última:"
   ]
  },
  {
   "cell_type": "markdown",
   "id": "ab758fdc",
   "metadata": {},
   "source": [
    "$$ \\frac{1}{f} = (n-1) \\left(\\frac{1}{R_{1}} - \\frac{1}{R_{2}} \\right)$$"
   ]
  },
  {
   "cell_type": "markdown",
   "id": "e8c6a7fd",
   "metadata": {},
   "source": [
    "Es posible demostrar que en el caso no paraxial se cumple la misma relación pero con un par de factores de ajuste:"
   ]
  },
  {
   "cell_type": "markdown",
   "id": "2824f38e",
   "metadata": {},
   "source": [
    "$$ - R_{1} + R_{1} \\sqrt{1- \\frac{x^{2} + y^{2}}{R_{1}^{2}}} + R_{2} - R_{2} \\sqrt{1- \\frac{x^{2} + y^{2}}{R_{2}^{2}}} $$"
   ]
  },
  {
   "cell_type": "markdown",
   "id": "e67c625d",
   "metadata": {},
   "source": [
    "$$ = - R_{1} + R_{1} \\left( 1- \\frac{x^{2} + y^{2}}{R_{1}^{2}} \\right)^{1/2} + R_{2} - R_{2} \\left( 1- \\frac{x^{2} + y^{2}}{R_{2}^{2}} \\right)^{1/2} $$"
   ]
  },
  {
   "cell_type": "markdown",
   "id": "540f2440",
   "metadata": {},
   "source": [
    "$$ = - R_{1} + R_{1} \\left( 1- \\frac{x^{2} + y^{2}}{R_{1}^{2}} \\right) \\left( 1- \\frac{x^{2} + y^{2}}{R_{1}^{2}} \\right)^{-1/2} + R_{2} - R_{2}\\left( 1- \\frac{x^{2} + y^{2}}{R_{2}^{2}} \\right) \\left( 1- \\frac{x^{2} + y^{2}}{R_{2}^{2}} \\right)^{-1/2} $$"
   ]
  },
  {
   "cell_type": "markdown",
   "id": "2e32d05f",
   "metadata": {},
   "source": [
    "$$ = -\\left(\\frac{x^{2} + y^{2}}{R_{1}} \\right) \\left( 1- \\frac{x^{2} + y^{2}}{R_{1}^{2}} \\right)^{-1/2} + \\left(\\frac{x^{2} + y^{2}}{R_{2}} \\right) \\left( 1- \\frac{x^{2} + y^{2}}{R_{2}^{2}} \\right)^{-1/2} $$"
   ]
  },
  {
   "cell_type": "markdown",
   "id": "1c05f624",
   "metadata": {},
   "source": [
    "$$ = -(x^{2} + y^{2}) \\left[ \\left(\\frac{1}{R_{1}} \\right) \\left( 1- \\frac{x^{2} + y^{2}}{R_{1}^{2}} \\right)^{-1/2} - \\left(\\frac{1}{R_{2}} \\right) \\left( 1- \\frac{x^{2} + y^{2}}{R_{2}^{2}} \\right)^{-1/2} \\right] $$"
   ]
  },
  {
   "cell_type": "markdown",
   "id": "32be9570",
   "metadata": {},
   "source": [
    "Donde los factores de ajuste son:"
   ]
  },
  {
   "cell_type": "markdown",
   "id": "4d37f631",
   "metadata": {},
   "source": [
    "$$F_{1} = \\left( 1- \\frac{x^{2} + y^{2}}{R_{1}^{2}} \\right)^{-1/2}$$"
   ]
  },
  {
   "cell_type": "markdown",
   "id": "ab9dc01b",
   "metadata": {},
   "source": [
    "$$F_{2} = \\left( 1- \\frac{x^{2} + y^{2}}{R_{2}^{2}} \\right)^{-1/2}$$"
   ]
  },
  {
   "cell_type": "markdown",
   "id": "a919c1a5",
   "metadata": {},
   "source": [
    "Por tanto el foco en el regimen no paraxial estaría dado por:"
   ]
  },
  {
   "cell_type": "markdown",
   "id": "63ff3889",
   "metadata": {},
   "source": [
    "$$ \\frac{1}{f} = (n-1) \\left(\\frac{1}{R_{1}}F_{1} - \\frac{1}{R_{2}} F_{2} \\right)$$"
   ]
  },
  {
   "cell_type": "code",
   "execution_count": 1,
   "id": "9e99b2fc",
   "metadata": {},
   "outputs": [],
   "source": [
    "import numpy as np"
   ]
  },
  {
   "cell_type": "code",
   "execution_count": 15,
   "id": "a0837e1f",
   "metadata": {},
   "outputs": [],
   "source": [
    "def enfoque(matriz, R1, R2):\n",
    "    n = 1.5\n",
    "    # Ejes coordenados\n",
    "    x = matriz[:,:-1]\n",
    "    y = matriz[:,1:]\n",
    "    \n",
    "    # norma cuadrada\n",
    "    p = (x ** 2) + (y ** 2)\n",
    "    \n",
    "    #factores de ajuste\n",
    "    f1 = 1/np.sqrt(1 - p/(R1**2))\n",
    "    f2 = 1/np.sqrt(1 - p/(R2**2))\n",
    "    \n",
    "    foco_inv = (n - 1)* (((1/R1) * f1)   -   ((1/R2) * f2))\n",
    "    foco = np.mean(foco_inv ** -1)\n",
    "    return foco"
   ]
  },
  {
   "cell_type": "code",
   "execution_count": 21,
   "id": "eec21509",
   "metadata": {},
   "outputs": [],
   "source": [
    "w      = 400 * (10 ** -9)\n",
    "r1     = 50000*w\n",
    "r2     = -50000*w\n",
    "a      = .1 * w\n",
    "points = np.array([[-a/2,-a/2],[-a/2,a/2],[a/2,a/2],[a/2,-a/2],[a/2,(3/2)*a],[a/2,-(3/2)*a],[-a/2,(3/2)*a],[-a/2,-(3/2)*a],[(3/2)*a,a/2],[(3/2)*a,-a/2],[(3/2)*a,(3/2)*a],[(3/2)*a,-(3/2)*a],[-(3/2)*a,a/2],[-(3/2)*a,-a/2],[-(3/2)*a,(3/2)*a],[-(3/2)*a,-(3/2)*a]])\n"
   ]
  },
  {
   "cell_type": "code",
   "execution_count": 22,
   "id": "d19f4af7",
   "metadata": {},
   "outputs": [
    {
     "data": {
      "text/plain": [
       "(0.019999999944775, 0.02)"
      ]
     },
     "execution_count": 22,
     "metadata": {},
     "output_type": "execute_result"
    }
   ],
   "source": [
    "matriz = np.array([[1,2], [3,-4]])\n",
    "\n",
    "enfoque(points*23.5, r1, r2), ((1.5-1)*((1/r1)-(1/r2))) ** -1"
   ]
  }
 ],
 "metadata": {
  "kernelspec": {
   "display_name": "Python 3 (ipykernel)",
   "language": "python",
   "name": "python3"
  },
  "language_info": {
   "codemirror_mode": {
    "name": "ipython",
    "version": 3
   },
   "file_extension": ".py",
   "mimetype": "text/x-python",
   "name": "python",
   "nbconvert_exporter": "python",
   "pygments_lexer": "ipython3",
   "version": "3.11.2"
  }
 },
 "nbformat": 4,
 "nbformat_minor": 5
}
