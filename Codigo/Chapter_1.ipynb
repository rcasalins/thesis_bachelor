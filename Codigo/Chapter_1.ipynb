{
 "cells": [
  {
   "cell_type": "markdown",
   "id": "d42779cb-b110-4fe3-992d-c02486881920",
   "metadata": {},
   "source": [
    "<div id=\"header\" align=\"center\">\n",
    "    <h1>Capitulo 1 - Teoría de Enfoque Paraxial</h1>\n",
    "</div>"
   ]
  },
  {
   "cell_type": "markdown",
   "id": "17d2b7de-dd94-4bde-be5c-5dc33b4cea9c",
   "metadata": {},
   "source": []
  }
 ],
 "metadata": {
  "kernelspec": {
   "display_name": "Python 3 (ipykernel)",
   "language": "python",
   "name": "python3"
  },
  "language_info": {
   "codemirror_mode": {
    "name": "ipython",
    "version": 3
   },
   "file_extension": ".py",
   "mimetype": "text/x-python",
   "name": "python",
   "nbconvert_exporter": "python",
   "pygments_lexer": "ipython3",
   "version": "3.10.9"
  }
 },
 "nbformat": 4,
 "nbformat_minor": 5
}
